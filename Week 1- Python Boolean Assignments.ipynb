{
 "cells": [
  {
   "cell_type": "markdown",
   "id": "998be751-c40d-4ac6-885b-4f70ceef464b",
   "metadata": {},
   "source": [
    "## WEEK 1 - Boolean Assignments"
   ]
  },
  {
   "cell_type": "markdown",
   "id": "e826093b-4a0e-4b9e-80a0-d9798dacc014",
   "metadata": {},
   "source": [
    "## Declare a boolean value and store it in a variable. \n",
    "Check the type and print the id of the same.\r"
   ]
  },
  {
   "cell_type": "code",
   "execution_count": 1,
   "id": "e1f73f01-7782-4375-8296-85acd36a5377",
   "metadata": {},
   "outputs": [
    {
     "name": "stdout",
     "output_type": "stream",
     "text": [
      "<class 'bool'>\n",
      "140729864883072\n"
     ]
    }
   ],
   "source": [
    "a = True\n",
    "print(type(a))\n",
    "print(id(a))"
   ]
  },
  {
   "cell_type": "markdown",
   "id": "de087766-2513-449b-bd50-010d389b4753",
   "metadata": {},
   "source": [
    "## Take one boolean value between 0 - 256. \n",
    "Assign it to two different variables.\r\n",
    "Check the id of both the variables. It should come the same. Check why?"
   ]
  },
  {
   "cell_type": "code",
   "execution_count": 3,
   "id": "cc26707b-7c54-40d7-b41b-761f2ba30423",
   "metadata": {},
   "outputs": [
    {
     "name": "stdout",
     "output_type": "stream",
     "text": [
      "140729864883072 140729864883072\n"
     ]
    }
   ],
   "source": [
    "a = True \n",
    "b = True\n",
    "print(id(a), id(b))"
   ]
  },
  {
   "cell_type": "markdown",
   "id": "95a3f744-7163-4af5-8155-1feb37730f23",
   "metadata": {},
   "source": [
    "## Arithmetic Operations on boolean data Take two different boolean values. Store them in two different variables.Do below operations on them:-\n",
    " Find sum of both values\n",
    " Find difference between them\n",
    " Find the product of both.\n",
    " Find value after dividing first value with second value\n",
    " Find the remainder after dividing first value with second value\n",
    " Find the quotient after dividing first value with second value\n",
    " Find the result of first value to the power of second value."
   ]
  },
  {
   "cell_type": "markdown",
   "id": "c8571167-7a3d-4be7-9401-16e71b670f11",
   "metadata": {},
   "source": [
    "## Find sum of both values"
   ]
  },
  {
   "cell_type": "code",
   "execution_count": 30,
   "id": "97513287-e002-42cb-a343-5bc15c6a3750",
   "metadata": {},
   "outputs": [
    {
     "name": "stdout",
     "output_type": "stream",
     "text": [
      "9\n",
      "3\n",
      "18\n",
      "2.0\n",
      "2\n",
      "0\n",
      "216\n"
     ]
    }
   ],
   "source": [
    "a = 6 #True\n",
    "b = 3 #False\n",
    "print(a + b)\n",
    "print(a - b)\n",
    "print(a * b)\n",
    "print(a / b)\n",
    "print(a // b) # quotient\n",
    "print(a % b)  # remainder\n",
    "print(a**b)"
   ]
  },
  {
   "cell_type": "markdown",
   "id": "0dc982de-11a2-4438-930a-a3ee1de63894",
   "metadata": {},
   "source": [
    "## Comparison Operators on boolean values \n",
    "Take two different boolean values \r\n",
    "Store them in two different variable.\r\n",
    "Do below operations on the -\r\n",
    " Compare these two values with below operator:-\r\n",
    " Greater than, '>'\r\n",
    " less than, '<'\r\n",
    " Greater than or equal to, '>='\r\n",
    " Less than or equal to, '<='\r\n",
    "Observe their output(return type should be boolean)\r"
   ]
  },
  {
   "cell_type": "code",
   "execution_count": 71,
   "id": "8b501190-1473-4712-8b33-305835cf361e",
   "metadata": {},
   "outputs": [
    {
     "name": "stdout",
     "output_type": "stream",
     "text": [
      "True\n",
      "False\n",
      "True\n",
      "False\n"
     ]
    }
   ],
   "source": [
    "a = True  # 1\n",
    "b = False # 0\n",
    "print(a > b)\n",
    "print(a < b)\n",
    "print(a >= b)\n",
    "print(a <= b) \n"
   ]
  },
  {
   "cell_type": "markdown",
   "id": "29ccadce-471d-4c07-834a-cf8ef7f1fc3a",
   "metadata": {},
   "source": [
    "## Q. Equality Operator \n",
    "Take two different boolean values \r\n",
    "Store them in two different variableE\r\n",
    "Equate them using equality operators (==, !=)\r\n",
    "Observe the output(return type should be boolean)"
   ]
  },
  {
   "cell_type": "code",
   "execution_count": 37,
   "id": "8edf51b9-4858-401e-a11d-f63a512ed1b0",
   "metadata": {},
   "outputs": [
    {
     "name": "stdout",
     "output_type": "stream",
     "text": [
      "False\n",
      "True\n"
     ]
    }
   ],
   "source": [
    "s1 = True \n",
    "s2 = False\n",
    "print(s1 == s2)\n",
    "print(s1 != s2)\n"
   ]
  },
  {
   "cell_type": "markdown",
   "id": "ee87af03-5129-411e-8c69-ab261bd2c2cf",
   "metadata": {},
   "source": [
    "## . Logical operators \n",
    "Observe the output of below cod . \r\n",
    "Cross check the output manually\r"
   ]
  },
  {
   "cell_type": "code",
   "execution_count": 39,
   "id": "3d6a6dd3-a9fa-4041-a705-82bc45cffd21",
   "metadata": {},
   "outputs": [
    {
     "name": "stdout",
     "output_type": "stream",
     "text": [
      "True\n",
      "False\n",
      "False\n",
      "False\n",
      "True\n",
      "True\n",
      "True\n",
      "False\n",
      "False\n",
      "True\n"
     ]
    }
   ],
   "source": [
    "print(True and True)  #----------------------------------------->Output is True\n",
    "print(False and True)  #----------------------------------------->Output is False\n",
    "print(True and False)  #----------------------------------------->Output is False\n",
    "print(False and False)  #----------------------------------------->Output is False\n",
    "print(True or True)    #----------------------------------------->Output is True\n",
    "print(False or True)   #----------------------------------------->Output is True\n",
    "print(True or False)   #----------------------------------------->Output is True\n",
    "print(False or False)  #----------------------------------------->Output is False\n",
    "print(not True)       #----------------------------------------->Output is False\n",
    "print(not False)     #----------------------------------------->Output is True"
   ]
  },
  {
   "cell_type": "markdown",
   "id": "8d2c2e8e-8a1c-44c9-ab11-da8a34de9dd2",
   "metadata": {},
   "source": [
    "## Q. Bitwise Operators \n",
    "Do below operations on the values provided below:-\r\n",
    " Bitwise and(&) --------------> True, True -------> Output is True\r\n",
    " Bitwise or(|) --------------> True, False -------> Output is True\r\n",
    " Bitwise(^) --------------> True, False -------> Output is True\r\n",
    " Bitwise negation(~) ---------> True -------> Output is -2\r\n",
    " Bitwise left shift ---------> True,2 -------> Output is 4\r\n",
    " Bitwise right shift ---------> True,2 -------> Output is 0\r\n",
    "Cross check the output manually"
   ]
  },
  {
   "cell_type": "code",
   "execution_count": 59,
   "id": "b1b6d26c-f189-4e36-aec0-46a5b98d9b78",
   "metadata": {},
   "outputs": [
    {
     "name": "stdout",
     "output_type": "stream",
     "text": [
      "True\n",
      "True\n",
      "True\n",
      "False\n",
      "4\n",
      "0\n"
     ]
    }
   ],
   "source": [
    "var1 = True\n",
    "var2 = False\n",
    "print(var1 & var1)\n",
    "print(var1 | var2)\n",
    "print(var1 ^ var2)\n",
    "print(not var1) #~ \n",
    "print(var1<<2)\n",
    "print(var1>>2)"
   ]
  },
  {
   "cell_type": "markdown",
   "id": "f7f687ea-273f-48f5-b229-f10819369979",
   "metadata": {},
   "source": [
    "## Q. What is the output of expression inside the print statement. Cross check before running the program.\n"
   ]
  },
  {
   "cell_type": "code",
   "execution_count": 61,
   "id": "ea6c7d7f-592c-40bf-8ab5-d2406691c80f",
   "metadata": {},
   "outputs": [
    {
     "name": "stdout",
     "output_type": "stream",
     "text": [
      "True\n",
      "False\n",
      "True\n",
      "False\n"
     ]
    }
   ],
   "source": [
    "a = True\n",
    "b = True\n",
    "print(a is b) #True or False? #\n",
    "print(a is not b) #True or False?\n",
    "a = False\n",
    "b = False\n",
    "print(a is b) #True or False?\n",
    "print(a is not b) #True or False?\n"
   ]
  },
  {
   "cell_type": "markdown",
   "id": "e83cfb9f-16ca-482e-a238-750d0d595c35",
   "metadata": {},
   "source": [
    "## Membership operation. in, not in are two membership operators and it returns boolean value\n"
   ]
  },
  {
   "cell_type": "code",
   "execution_count": 69,
   "id": "9850cd14-c49b-45b0-bd61-01fc9093270b",
   "metadata": {},
   "outputs": [
    {
     "name": "stdout",
     "output_type": "stream",
     "text": [
      "True\n",
      "True\n",
      "True\n",
      "True\n",
      "True\n"
     ]
    }
   ],
   "source": [
    "print(True in [10,10.20,10+20j,'Python', True])\n",
    "print(False in (10,10.20,10+20j,'Python', False))\n",
    "print(True in {1,2,3, True})\n",
    "print(True in {True:100, False:200, True:300})\n",
    "print(False in {True:100, False:200, True:300})"
   ]
  },
  {
   "cell_type": "markdown",
   "id": "5dd7dbd9-ae82-4bb4-906d-3ab32c594858",
   "metadata": {},
   "source": [
    "## Complex assignments\n",
    "\n",
    "## Declare a complex number and store it in a variable.  \n",
    "Check the type and print the id of the same. "
   ]
  },
  {
   "cell_type": "code",
   "execution_count": 3,
   "id": "e7cb2868-feeb-49aa-919f-875e1bbc73a7",
   "metadata": {},
   "outputs": [
    {
     "name": "stdout",
     "output_type": "stream",
     "text": [
      "<class 'complex'>\n",
      "1846033068272\n"
     ]
    }
   ],
   "source": [
    "a = 3+4j\n",
    "print(type(a))\n",
    "print(id(a))"
   ]
  },
  {
   "cell_type": "markdown",
   "id": "2c034454-daa8-428d-9c97-5cb36b1b1baa",
   "metadata": {},
   "source": [
    "## Arithmetic Operations on complex number \n",
    "Take two different complex numbers.\r\n",
    "Store them in two different variables \r\n",
    "Do below operations on them1.\r\n",
    "   Find sum of both numb,\n",
    "## 2. \r\n",
    "   Find difference between,3.m \r\n",
    "   Find the product of both num4.. \r\n",
    "   Find value after dividing first num with second 5.er \r\n",
    "   Find the result of the first num to the power of the second number. "
   ]
  },
  {
   "cell_type": "code",
   "execution_count": 11,
   "id": "ecb5a996-30d1-456d-b26f-babb5658d146",
   "metadata": {},
   "outputs": [
    {
     "name": "stdout",
     "output_type": "stream",
     "text": [
      "(5+7j)\n",
      "(-1-1j)\n",
      "(-6+17j)\n",
      "(0.72+0.04j)\n",
      "(-0.204552921794176+0.8966232598799766j)\n"
     ]
    }
   ],
   "source": [
    "a = 2+3j\n",
    "b = 3+4j\n",
    "print(a + b)\n",
    "print(a - b)\n",
    "print(a * b)\n",
    "print(a / b)\n",
    "print(a ** b)"
   ]
  },
  {
   "cell_type": "markdown",
   "id": "20bbb287-5a0f-4fdb-a490-e078e020489c",
   "metadata": {},
   "source": [
    "## Comparison Operation not applicable between instance of complex \n",
    "values.\r\n",
    "Object reusability concept is not applicable on complex number"
   ]
  },
  {
   "cell_type": "markdown",
   "id": "86733642-2455-486b-bce9-a57a2646ba94",
   "metadata": {},
   "source": [
    "## Equality Operator Take two different complex numbers. Store them in two different variables. Equate them using equality operators (==, !=) \n",
    "Observe the output(return type should be boolean)"
   ]
  },
  {
   "cell_type": "code",
   "execution_count": 15,
   "id": "2b40321e-97ba-4c57-b46e-c00c3c931f61",
   "metadata": {},
   "outputs": [
    {
     "name": "stdout",
     "output_type": "stream",
     "text": [
      "True\n",
      "False\n"
     ]
    }
   ],
   "source": [
    "a = 2+3j\n",
    "b = 2+3j\n",
    "print(a == b)\n",
    "print(a != b)"
   ]
  },
  {
   "cell_type": "markdown",
   "id": "98ba1cdb-0d27-473f-96ab-28826556279d",
   "metadata": {},
   "source": [
    "## Logical operators  Observe the output of below code Cross check the output manually"
   ]
  },
  {
   "cell_type": "code",
   "execution_count": 17,
   "id": "ddef8edb-45f5-4c2b-8b5c-322fa6d0ada6",
   "metadata": {},
   "outputs": [
    {
     "name": "stdout",
     "output_type": "stream",
     "text": [
      "(20+30j)\n",
      "0j\n",
      "0j\n",
      "0j\n",
      "(10+20j)\n",
      "(20+30j)\n",
      "(20+30j)\n",
      "0j\n",
      "False\n",
      "True\n"
     ]
    }
   ],
   "source": [
    "print(10+20j and 20+30j)    #20+30j #----------------------------------------->Output is 20+30j \n",
    " \n",
    "print(0+0j and 20+30j)      #0+0j #----------------------------------------->Output is 0j \n",
    " \n",
    "print(20+30j and 0+0j)      #0+0j  #----------------------------------------->Output is 0j \n",
    " \n",
    "print(0+0j and 0+0j)        #0+0j #----------------------------------------->Output is 0j \n",
    " \n",
    "print(10+20j or 20+30j)     #10+20j #----------------------------------------->Output is 10+20j \n",
    " \n",
    "print(0+0j or 20+30j)       #20+30j #----------------------------------------->Output is 20+30j \n",
    " \n",
    "print(20+30j or 0+0j)       #20+30j #----------------------------------------->Output is 20+30j \n",
    " \n",
    "print(0+0j or 0+0j)         #0+0j #----------------------------------------->Output is 0j \n",
    " \n",
    "print(not 10+20j)           #False #----------------------------------------->Output is False \n",
    " \n",
    "print(not 0+0j)             #True #----------------------------------------->Output is True"
   ]
  },
  {
   "cell_type": "markdown",
   "id": "4ab04a06-3236-4032-8010-6e6da3fb853b",
   "metadata": {},
   "source": [
    "## What is the output of the expression inside the print statement. \n",
    "Cross check before running the program.alse?"
   ]
  },
  {
   "cell_type": "code",
   "execution_count": 23,
   "id": "868ddff7-6e77-4bb1-b37e-ddee0d9830e8",
   "metadata": {},
   "outputs": [
    {
     "name": "stdout",
     "output_type": "stream",
     "text": [
      "False\n",
      "True\n"
     ]
    }
   ],
   "source": [
    "a = 10+20j \n",
    "b = 10+20j \n",
    "print(a is b)       #False   #True or False? \n",
    "print(a is not b)   #True   #True or False?"
   ]
  },
  {
   "cell_type": "markdown",
   "id": "37af777a-c66b-4e27-9cab-0daff7bb76d0",
   "metadata": {},
   "source": [
    "## Membership operation \n",
    "in, not in are two membership operators and it returns boolean value  #True"
   ]
  },
  {
   "cell_type": "code",
   "execution_count": 25,
   "id": "fc8214cf-7c0a-4106-acec-4d7cfbea402d",
   "metadata": {},
   "outputs": [
    {
     "name": "stdout",
     "output_type": "stream",
     "text": [
      "True\n",
      "True\n",
      "True\n",
      "True\n",
      "True\n",
      "True\n"
     ]
    }
   ],
   "source": [
    "print('2.7' in 'Python2.7.8')                      #True \n",
    "print(10+20j in [10,10.20,10+20j,'Python'])        #True \n",
    "print(10+20j in (10,10.20,10+20j,'Python'))        #True \n",
    "print(30+40j in {1,20.30,30+40j})                  #True \n",
    "print(30+40j in {1:100, 2.3:200, 30+40j:300})      #True \n",
    "print(10 in range(20))                             #True"
   ]
  },
  {
   "cell_type": "markdown",
   "id": "030188e2-a017-4590-b6d4-cc9acaeabed9",
   "metadata": {},
   "source": [
    "## Float Assignment "
   ]
  },
  {
   "cell_type": "markdown",
   "id": "bbe8d56b-9616-45cf-8c1d-3479b15d3255",
   "metadata": {},
   "source": [
    "##  Declare a float value and store it in a variable. Check the type and print the id of the same."
   ]
  },
  {
   "cell_type": "code",
   "execution_count": 27,
   "id": "6607cbfe-55e8-4a6e-828d-b01c6bc559a5",
   "metadata": {},
   "outputs": [
    {
     "name": "stdout",
     "output_type": "stream",
     "text": [
      "<class 'float'>\n",
      "1846033063600\n"
     ]
    }
   ],
   "source": [
    "x = 10.20\n",
    "print(type(x))\n",
    "print(id(x))"
   ]
  },
  {
   "cell_type": "markdown",
   "id": "93cf7b0a-0a7e-486b-8c24-c07e8933a9c7",
   "metadata": {},
   "source": [
    "## Arithmetic Operations on float \n",
    "Take two different float values.\r\n",
    "Store them in two different variables \r\n",
    "Do below operations on them:- \r\n",
    "   Find sum of both numbers \r\n",
    "   Find difference between them \r\n",
    "   Find the product of both numbers. \r\n",
    "   Find value after dividing first num with second number \r\n",
    "   Find the remainder after dividing first number with second number \r\n",
    "   Find the quotient after dividing first number with second number \r\n",
    "   Find the result of the first num to the power of the second number."
   ]
  },
  {
   "cell_type": "code",
   "execution_count": 29,
   "id": "8f080e57-803a-4b80-b2f4-54898305b36a",
   "metadata": {},
   "outputs": [
    {
     "name": "stdout",
     "output_type": "stream",
     "text": [
      "60.2\n",
      "20.0\n",
      "806.0100000000001\n",
      "1.9950248756218905\n",
      "1.0\n",
      "20.0\n",
      "1.6718676316786345e+32\n"
     ]
    }
   ],
   "source": [
    "a = 40.10\n",
    "b = 20.10\n",
    "print(a + b)\n",
    "print(a - b)\n",
    "print(a * b)\n",
    "print( a / b)\n",
    "print(a // b)\n",
    "print(a % b)\n",
    "print(a ** b)"
   ]
  },
  {
   "cell_type": "markdown",
   "id": "d6dab765-2555-42e2-9ccc-0a6e5fb43689",
   "metadata": {},
   "source": [
    "## Comparison Operators on float \n",
    "Take two different float values.\r\n",
    "Store them in two different variables \r\n",
    "Do below operations on them\n",
    "   Compare these two numbers with below operator:- \r\n",
    "       Greater than,>' \r\n",
    " Smaller than'<' \r\n",
    " Greater than or equal to'>=' \r\n",
    " Less than or equal t, '<=' \r\n",
    "Observe their output(return type should be boolean) "
   ]
  },
  {
   "cell_type": "code",
   "execution_count": 31,
   "id": "7d794de0-2591-42d2-9970-014a87b76593",
   "metadata": {},
   "outputs": [
    {
     "name": "stdout",
     "output_type": "stream",
     "text": [
      "True\n",
      "False\n",
      "True\n",
      "False\n"
     ]
    }
   ],
   "source": [
    "x = 30.4\n",
    "y = 20.5\n",
    "print(x > y)\n",
    "print(x < y)\n",
    "print(x >= y)\n",
    "print(x <= y)"
   ]
  },
  {
   "cell_type": "markdown",
   "id": "c084e1c7-dfb6-445e-bc1e-d8433a61d2dc",
   "metadata": {},
   "source": [
    "## Equality Operator \n",
    "Take two different float values.\r\n",
    "Store them in two different variables \r\n",
    "Equate them using equality operators (==, !) \r\n",
    "Observe the output(return type should be boolean) "
   ]
  },
  {
   "cell_type": "code",
   "execution_count": 35,
   "id": "d1535ea3-57dc-4f45-a0cd-f865533c3f3c",
   "metadata": {},
   "outputs": [
    {
     "name": "stdout",
     "output_type": "stream",
     "text": [
      "False\n",
      "True\n",
      "True\n",
      "False\n"
     ]
    }
   ],
   "source": [
    "x = 30.4\n",
    "y = 20.5\n",
    "print(x == y)\n",
    "print(x != y)\n",
    "x1 = 10.0\n",
    "y1 = 10.0\n",
    "print(x1 == y1)\n",
    "print(x1 != y1)"
   ]
  },
  {
   "cell_type": "markdown",
   "id": "f68380f4-22db-4606-9c52-52642e95cd94",
   "metadata": {},
   "source": [
    "## Logical operators Observe the output of below code Cross check the output manually "
   ]
  },
  {
   "cell_type": "code",
   "execution_count": 47,
   "id": "9ae3a2e3-637a-4a23-9a34-6b148557d21a",
   "metadata": {},
   "outputs": [
    {
     "ename": "SyntaxError",
     "evalue": "invalid decimal literal (1928625992.py, line 7)",
     "output_type": "error",
     "traceback": [
      "\u001b[1;36m  Cell \u001b[1;32mIn[47], line 7\u001b[1;36m\u001b[0m\n\u001b[1;33m    false so second is taken>Output is 0print(0.0 and 0.0)and 0.0)           #First is false so first lue is\u001b[0m\n\u001b[1;37m                                       ^\u001b[0m\n\u001b[1;31mSyntaxError\u001b[0m\u001b[1;31m:\u001b[0m invalid decimal literal\n"
     ]
    }
   ],
   "source": [
    "print(10.20 and 20.30)       #both are true and second value taken >Output is 20.3 \r\n",
    " \r\n",
    "print(0.0 and 20.30)         #First is false so first val \r\n",
    "taken->Output is 0.0 \r\n",
    " \r\n",
    "print(20.30 and 0.0)         #Goes to till second and second val is \r\n",
    "false so second is taken>Output is 0print(0.0 and 0.0)and 0.0)           #First is false so first lue is \r\n",
    "taken->Output is 0.0 \r\n",
    " \r\n",
    "print(10.20 or 20.30)        #First is True so fir value is \r\n",
    "taken>Output is 10.2 \r\n",
    " \r\n",
    "print(0.0 or 20.30)          #Goes to till second and cond is true \r\n",
    "second value is taken->Output is 20.3 \r\n",
    " \r\n",
    "print(20.30 or 0.0)          #First is True  first value is \r\n",
    "taken->Output is 20.3 \r\n",
    " \r\n",
    "print(0.0 or 0.0)           d #Goes to till seconand second is also \r\n",
    "false and second value is taken>Output is 0.0 \r\n",
    " \r\n",
    "print(not 10.20)             #-Not of true is false->Output is False \r\n",
    " \r\n",
    "print(not 0.0)               #Not of false is True>Output is True"
   ]
  },
  {
   "cell_type": "markdown",
   "id": "d3838800-3853-4c65-8edf-1b64ce28d43a",
   "metadata": {},
   "source": [
    "## What is the output of expression inside print statement. Cross check \r\n",
    "before running the program. \r\n",
    "a = 10.20 \r\n",
    "b - 10.20 \r\n",
    "print(a is b)          #True or False? True 10.20<256 \r\n",
    "print(a is not b)      #True or False? False \r\n",
    "Why the Id of float values are different when the same value is \r\n",
    "assigned to two different variables \r\n",
    "ex: a = 10.5 b=10.5. but id will be same if I assign the variable \r\n",
    "having float i.e. a=c then both a and c's Id are same "
   ]
  },
  {
   "cell_type": "code",
   "execution_count": 49,
   "id": "af9f4c71-df0a-4c81-ab41-2d8fe40338db",
   "metadata": {},
   "outputs": [
    {
     "name": "stdout",
     "output_type": "stream",
     "text": [
      "False\n",
      "True\n"
     ]
    }
   ],
   "source": [
    "a = 10.20 \n",
    "b = 10.20 \n",
    "print(a is b)          #True or False? True 10.20<256 \n",
    "print(a is not b)      #True or False? False "
   ]
  },
  {
   "cell_type": "markdown",
   "id": "2f0c975d-187e-4c7c-b8b2-ed58083c80d3",
   "metadata": {},
   "source": [
    " ## Bitwise operation is not applicable between instances of float. Why the Id of float values are different when the same value is assigned to two different variables \n",
    "ex: a = 10.5 b=10.5. but id will be same if I assign the variable \n",
    "having float i.e. a=c then both a and c's Id are same \n",
    "Object reusability concept is not applicable on float values."
   ]
  },
  {
   "cell_type": "markdown",
   "id": "752ace1c-5abd-4fbe-82ec-68671b99a5cb",
   "metadata": {},
   "source": [
    " ## Membership operation in, not in are two membership operators and it returns boolean value \n"
   ]
  },
  {
   "cell_type": "code",
   "execution_count": 51,
   "id": "3462c9a2-793d-4386-ba01-6cb63d58103e",
   "metadata": {},
   "outputs": [
    {
     "name": "stdout",
     "output_type": "stream",
     "text": [
      "True\n",
      "True\n",
      "True\n",
      "True\n",
      "True\n",
      "True\n"
     ]
    }
   ],
   "source": [
    "print('2.7' in 'Python2.7.8')              #True \n",
    "print(10.20 in [10,10.20,10+20j,'Python']) #True \n",
    "print(10.20 in (10,10.20,10+20j,'Python')) # True \n",
    "print(20.30 in {1,20.30,30+40j})           # True \n",
    "print(2.3 in {1:100, 2.3:200, 30+40j:300}) # True \n",
    "print(10 in range(20))                     # True"
   ]
  },
  {
   "cell_type": "markdown",
   "id": "c8dfabb2-4e73-4421-a555-fe9771913a99",
   "metadata": {},
   "source": [
    "## Int Assignment \n",
    "## Q. Declare an int value and store it in a variable. Check the type and print the id of the same."
   ]
  },
  {
   "cell_type": "code",
   "execution_count": 3,
   "id": "a7dbc2c2-1b94-405e-8952-10f204c09a5f",
   "metadata": {},
   "outputs": [
    {
     "name": "stdout",
     "output_type": "stream",
     "text": [
      "<class 'int'>\n",
      "140729562643160\n"
     ]
    }
   ],
   "source": [
    "a = 10\n",
    "print(type(a))\n",
    "print(id(a))"
   ]
  },
  {
   "cell_type": "markdown",
   "id": "adc889c2-e947-4174-b877-352646a037e4",
   "metadata": {},
   "source": [
    "## \n",
    "Q. Take one int value between 0 - 256.\r\n",
    "Assign it to two different variables \r\n",
    "Check the id of both the variables. It should come the same. Check why? "
   ]
  },
  {
   "cell_type": "code",
   "execution_count": 5,
   "id": "0501a6ec-9681-4a07-b5ab-125b740861d2",
   "metadata": {},
   "outputs": [
    {
     "name": "stdout",
     "output_type": "stream",
     "text": [
      "140729562647416\n",
      "140729562647416\n"
     ]
    }
   ],
   "source": [
    "x = 143\n",
    "y = 143 \n",
    "print(id(x))\n",
    "print(id(y))    "
   ]
  },
  {
   "cell_type": "markdown",
   "id": "a27e8da5-1519-4362-8c6d-4df4413d1276",
   "metadata": {},
   "source": [
    "## Take one int value either less than -5 or greater than 256. \n",
    "Assign it to two different variables.\r\n",
    "Check the id of both the variables. It should come different.Check why?"
   ]
  },
  {
   "cell_type": "code",
   "execution_count": 11,
   "id": "999d0756-460a-46a7-878f-57e24fe3c0dd",
   "metadata": {},
   "outputs": [
    {
     "name": "stdout",
     "output_type": "stream",
     "text": [
      "2098744471856\n",
      "2098744471056\n"
     ]
    }
   ],
   "source": [
    "s1 = 300\n",
    "s2 = 300\n",
    "print(id(s1))\n",
    "print(id(s2))"
   ]
  },
  {
   "cell_type": "markdown",
   "id": "6e6e4f1a-78d3-4b77-bfed-620ec15b6307",
   "metadata": {},
   "source": [
    "##  Arithmetic Operations on integers \n",
    "Take two different integer values.\r\n",
    "Store them in two different variables \r\n",
    "Do below operations on them:- \r\n",
    "   Find sum of both numbers \r\n",
    "   Find difference between them \r\n",
    "   Find the product of both numbers. \r\n",
    "   Find value after dividing first num with second number \r\n",
    "   Find the remainder after dividing first number with second number \r\n",
    "   Find the quotient after dividing first number with second number \r\n",
    "   Find the result of the first num to the power of the second number. "
   ]
  },
  {
   "cell_type": "code",
   "execution_count": 13,
   "id": "aaa3cecf-69a2-4603-afd9-c21f459302c1",
   "metadata": {},
   "outputs": [
    {
     "name": "stdout",
     "output_type": "stream",
     "text": [
      "30\n",
      "20\n",
      "125\n",
      "5.0\n",
      "5\n",
      "0\n",
      "9765625\n"
     ]
    }
   ],
   "source": [
    "s3 = 25\n",
    "s4 = 5\n",
    "print(s3 + s4)\n",
    "print(s3 - s4)\n",
    "print(s3 * s4)\n",
    "print(s3 / s4)\n",
    "print(s3 // s4)\n",
    "print(s3 % s4)\n",
    "print(s3 ** s4)"
   ]
  },
  {
   "cell_type": "markdown",
   "id": "6d765595-9fd0-4f1c-9acc-50d7fa2f52e0",
   "metadata": {},
   "source": [
    "## Comparison Operators on integers Take two different integer values. Store them in two different variables. Do below operations on them:- Compare se two numbers with below operator:- \n",
    "       Greater than, '>' \n",
    "       Smaller than, '<' \n",
    "       Greater than or equal to, '>=' \n",
    "       Less than or equal to, '<=' Observe their output(return type should be boolean) "
   ]
  },
  {
   "cell_type": "code",
   "execution_count": 15,
   "id": "8ee6013c-2dbf-48f8-a16b-85913858582f",
   "metadata": {},
   "outputs": [
    {
     "name": "stdout",
     "output_type": "stream",
     "text": [
      "True\n",
      "False\n",
      "True\n",
      "False\n"
     ]
    }
   ],
   "source": [
    "x1 = 156 \n",
    "x2 = 123\n",
    "print(x1 > x2)\n",
    "print(x1 < x2)\n",
    "print(x1 >= x2)\n",
    "print(x1 <= x2)"
   ]
  },
  {
   "cell_type": "markdown",
   "id": "73b66af3-ab7f-403a-b4cd-2c09c74d4698",
   "metadata": {},
   "source": [
    "## Equality Operator \n",
    "Take two different integer values.\r\n",
    "Store them in two different variables \r\n",
    "Equate them using equality operators (==, !=) \r\n",
    "Observe the output(return type should be boolean)"
   ]
  },
  {
   "cell_type": "code",
   "execution_count": 19,
   "id": "bcbfda61-b68b-4808-bdd0-6a04dafeba9d",
   "metadata": {},
   "outputs": [
    {
     "name": "stdout",
     "output_type": "stream",
     "text": [
      "False\n",
      "True\n",
      "True\n",
      "False\n"
     ]
    }
   ],
   "source": [
    "x1 = 500\n",
    "y2 = 300\n",
    "print(x1 == y2)\n",
    "print(x1 != y2)\n",
    "var1 = 200\n",
    "var2 = 200\n",
    "print(var1 == var2)\n",
    "print(var1 != var2)"
   ]
  },
  {
   "cell_type": "markdown",
   "id": "919f35f7-b170-4855-b3a4-7ca3b9100846",
   "metadata": {},
   "source": [
    "## Logical operators Observe the output of below code Cross check the output manually "
   ]
  },
  {
   "cell_type": "code",
   "execution_count": 27,
   "id": "062dc42b-af9d-4f73-82e5-531be6e646b4",
   "metadata": {},
   "outputs": [
    {
     "name": "stdout",
     "output_type": "stream",
     "text": [
      "20\n",
      "0\n",
      "0\n",
      "0\n",
      "10\n",
      "20\n",
      "20\n",
      "0\n",
      "False\n",
      "True\n"
     ]
    }
   ],
   "source": [
    "print(10 and 20) #----------------------------------------->Output is 20  ==. T T ->  # later value\n",
    "print(0 and 20) #----------------------------------------->Output is 0  ---< F T -->1st value\n",
    "print(20 and 0) #----------------------------------------->Output is 0 \n",
    "print(0 and 0) #----------------------------------------->Output is 0 \n",
    "print(10 or 20) #----------------------------------------->Output is 10 \n",
    "print(0 or 20) #----------------------------------------->Output is 20 \n",
    "print(20 or 0) #----------------------------------------->Output is 20 \n",
    "print(0 or 0) #----------------------------------------->Output is 0 \n",
    "print(not 10) #----------------------------------------->Output is False \n",
    "print(not 0) #----------------------------------------->Output is True"
   ]
  },
  {
   "cell_type": "markdown",
   "id": "6f9c37a6-7cd0-4563-a71d-eefc181bcab8",
   "metadata": {},
   "source": [
    "## Q. Bitwise Operators \r\n",
    "Do below operations on the values provided below:- \r\n",
    "   Bitwise and(&) -----------------------------------------> 10, 20 -------> Output is 0 \r\n",
    "   Bitwise or(|)  -----------------------------------------> 10, 20 -------> Output is 30 \r\n",
    "   Bitwise(^)     -----------------------------------------> 10, 20 -------> Output is 30 \r\n",
    "   Bitwise negation(~) ------------------------------------> 10 -------> Output is -11 \r\n",
    "   Bitwise left shift  ------------------------------------> 10,2 -------> Output is 40 \r\n",
    "   Bitwise right shift ------------------------------------> 10,2 -------> Output is 2 \r\n",
    "Cross check the output manually"
   ]
  },
  {
   "cell_type": "code",
   "execution_count": 31,
   "id": "c2f50f3c-8533-4482-8821-bedeff2b9715",
   "metadata": {},
   "outputs": [
    {
     "name": "stdout",
     "output_type": "stream",
     "text": [
      "0\n",
      "30\n",
      "30\n",
      "-11\n",
      "40\n",
      "2\n"
     ]
    }
   ],
   "source": [
    "print(10 & 20)\n",
    "print(10 | 20)\n",
    "print(10 ^ 20)\n",
    "print(~10)\n",
    "print(10 << 2)\n",
    "print(10 >> 2)"
   ]
  },
  {
   "cell_type": "markdown",
   "id": "c62f3d2e-9668-4f88-9756-f01609388fd2",
   "metadata": {},
   "source": [
    "## What is the output of expression inside print statement. Cross check \n",
    "before running the program. or False?"
   ]
  },
  {
   "cell_type": "code",
   "execution_count": 33,
   "id": "5dabab3f-6f5b-4b55-bfcf-525d1eeac724",
   "metadata": {},
   "outputs": [
    {
     "name": "stdout",
     "output_type": "stream",
     "text": [
      "True\n",
      "False\n",
      "False\n",
      "True\n"
     ]
    }
   ],
   "source": [
    "a = 10 \n",
    "b = 10 \n",
    "print(a is b)          #True or False? \n",
    "print(a is not b)      #True or False? \n",
    " \n",
    "a = 1000 \n",
    "b = 1000 \n",
    "print(a is b)          #True or False? \n",
    "print(a is not b)      #True or False?"
   ]
  },
  {
   "cell_type": "markdown",
   "id": "2e03653b-2873-4eea-bb50-84c09f16601b",
   "metadata": {},
   "source": [
    "## Q. What is the output of expression inside print statement. Cross check \n",
    "before running the program. \r\n",
    "print(10+(10*32)//2**5&20+(~(-10))<<2)"
   ]
  },
  {
   "cell_type": "code",
   "execution_count": 37,
   "id": "4cee6405-7406-43d3-a966-4b4183cca863",
   "metadata": {},
   "outputs": [
    {
     "name": "stdout",
     "output_type": "stream",
     "text": [
      "20\n"
     ]
    }
   ],
   "source": [
    "print(10+(10*32)//2**5&20+(~(-10))<<2)"
   ]
  },
  {
   "cell_type": "markdown",
   "id": "0be00ec2-8d19-46c2-b977-ccce05b3e773",
   "metadata": {},
   "source": [
    "## Q. Membership operation \n",
    "in, not in are two membership operators and it returns boolean value nge(20))"
   ]
  },
  {
   "cell_type": "code",
   "execution_count": 49,
   "id": "5de172f3-c5ce-4574-ad95-d6d11b5191f1",
   "metadata": {},
   "outputs": [
    {
     "name": "stdout",
     "output_type": "stream",
     "text": [
      "True\n",
      "True\n",
      "True\n",
      "True\n",
      "True\n",
      "True\n"
     ]
    }
   ],
   "source": [
    "print('2' in 'Python2.7.8') \n",
    "print(10 in [10,10.20,10+20j,'Python']) \n",
    "print(10 in (10,10.20,10+20j,'Python')) \n",
    "print(2 in {1,2,3}) \n",
    "print(3 in {1:100, 2:200, 3:300}) \n",
    "print(10 in range(20))"
   ]
  },
  {
   "cell_type": "markdown",
   "id": "8343b772-d2d1-4401-bc00-ca13cf9e30d9",
   "metadata": {},
   "source": [
    "## An integer can be represented in binary, octal or hexadecimal form.\n",
    "Declare one binary, one octal and one hexadecimal value and store them\r\n",
    "in three different variables \r\n",
    "Convert 9876 to its binary, octal and hexadecimal equivalent and prit \r\n",
    "their corresponding value."
   ]
  },
  {
   "cell_type": "code",
   "execution_count": 51,
   "id": "0a192745-8128-459d-8c25-6fbea3fbcab5",
   "metadata": {},
   "outputs": [
    {
     "name": "stdout",
     "output_type": "stream",
     "text": [
      "80\n",
      "3870\n",
      "64222\n",
      "0b1010000\n",
      "0o7436\n",
      "0xfade\n",
      "0b1010000\n",
      "0b1111101011011110\n",
      "0o175336\n",
      "0o7436\n",
      "0x50\n",
      "0xfade\n"
     ]
    }
   ],
   "source": [
    "a = 0b1010000 \n",
    "print(a) \n",
    " \n",
    "b = 0o7436 \n",
    "print(b) \n",
    " \n",
    "c = 0xfade \n",
    "print(c) \n",
    " \n",
    "print(bin(80)) \n",
    " \n",
    "print(oct(3870)) \n",
    "print(hex(64222)) \n",
    "print(bin(0b1010000)) \n",
    "print(bin(0xfade)) \n",
    "print(oct(0xfade)) \n",
    "print(oct(0o7436)) \n",
    "print(hex(0b1010000)) \n",
    "print(hex(0xfade))"
   ]
  },
  {
   "cell_type": "code",
   "execution_count": null,
   "id": "c53d77bc-290a-489f-989f-c691c07f34f8",
   "metadata": {},
   "outputs": [],
   "source": []
  }
 ],
 "metadata": {
  "kernelspec": {
   "display_name": "Python 3 (ipykernel)",
   "language": "python",
   "name": "python3"
  },
  "language_info": {
   "codemirror_mode": {
    "name": "ipython",
    "version": 3
   },
   "file_extension": ".py",
   "mimetype": "text/x-python",
   "name": "python",
   "nbconvert_exporter": "python",
   "pygments_lexer": "ipython3",
   "version": "3.12.4"
  }
 },
 "nbformat": 4,
 "nbformat_minor": 5
}
