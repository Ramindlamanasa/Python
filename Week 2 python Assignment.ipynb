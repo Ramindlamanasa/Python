{
 "cells": [
  {
   "cell_type": "markdown",
   "id": "8fd64e26-b8e0-4004-b0ed-96a45daaa9bc",
   "metadata": {},
   "source": [
    "## Strings Assignment"
   ]
  },
  {
   "cell_type": "code",
   "execution_count": 1,
   "id": "277c52cd-f4c2-4b7f-ab65-bee05324c876",
   "metadata": {},
   "outputs": [
    {
     "name": "stdout",
     "output_type": "stream",
     "text": [
      "<class 'str'> 2896834543344\n"
     ]
    }
   ],
   "source": [
    "#Declare a string and store it in a variable. \n",
    "\n",
    "str = \"Manasa is good\"\n",
    "\n",
    "#Check the type and print the id of the same.\n",
    "print(type(str), id(str))"
   ]
  },
  {
   "cell_type": "code",
   "execution_count": 27,
   "id": "2bf9d388-eac3-419a-954b-2db8fe47dada",
   "metadata": {},
   "outputs": [
    {
     "name": "stdout",
     "output_type": "stream",
     "text": [
      "This is Python class\n",
      "This is Python class\n",
      "This is Python class\n",
      "This is Python class\n",
      "Learnbay provides 'Java', 'Python' classes\n",
      "This is Python's class\n",
      "Learnbay provides \"Java\", \"Python\" classes\n",
      "Learnbay provides \"Java\", \"Python\" classes\n",
      "Learnbay provides\n",
      "\"Java\", \"Python\" \n",
      "classes\n"
     ]
    }
   ],
   "source": [
    "print('This is Python class')\n",
    "print(\"This is Python class\")\n",
    "print('''This is Python class''')\n",
    "print(\"\"\"This is Python class\"\"\")\n",
    "#print('This is Python's class') #invalid\n",
    "#print(\"Learnbay provides \"Java\", \"Python\" classes\")\n",
    "print(\"Learnbay provides 'Java', 'Python' classes\")\n",
    "print(\"This is Python's class\")\n",
    "print( \"\"\"Learnbay provides \"Java\", \"Python\" classes\"\"\")\n",
    "print('''Learnbay provides \"Java\", \"Python\" classes''')\n",
    "print('''Learnbay provides\n",
    "\"Java\", \"Python\" \n",
    "classes''')\n",
    "#print('This is\n",
    "#Python \n",
    "#class')"
   ]
  },
  {
   "cell_type": "markdown",
   "id": "a26005b0-5bb7-4346-bb10-4adc33e37e0c",
   "metadata": {},
   "source": [
    "## Write the code to get the output mentioned below print statement"
   ]
  },
  {
   "cell_type": "code",
   "execution_count": 37,
   "id": "2d05eb5f-e20c-4370-ab3f-ee0e1a9622d6",
   "metadata": {},
   "outputs": [
    {
     "name": "stdout",
     "output_type": "stream",
     "text": [
      "66\n",
      "2896887290144\n",
      "True\n",
      "<class 'str'>\n"
     ]
    }
   ],
   "source": [
    "#Write the code to get the output mentioned below print statement\n",
    "my_str = \"Although that way may not be obvious at first unless you're Dutch.\"\n",
    "my_str1 = \"Although that way may not be obvious at first unless you're Dutch.\"\n",
    "\n",
    "print(len(my_str))\n",
    "#output:- The length of my_str is 66\n",
    "\n",
    "print(id(my_str))\n",
    "print(my_str == my_str1)\n",
    "#output:- id of my_str and my_str1 is same? - True\n",
    "\n",
    "print(type(my_str))\n",
    "#output:- Type of my_str is: str"
   ]
  },
  {
   "cell_type": "markdown",
   "id": "fd74381d-aa82-47d7-bcec-f6b9c58209b0",
   "metadata": {},
   "source": [
    "## Indexing\n"
   ]
  },
  {
   "cell_type": "code",
   "execution_count": 43,
   "id": "057f14e9-6a30-4173-8dba-5074eaf17532",
   "metadata": {},
   "outputs": [
    {
     "name": "stdout",
     "output_type": "stream",
     "text": [
      "The first character in my_str is : A\n",
      "The first character in my_str is : A\n",
      "The character at index 10 in my_str is:  \n",
      "The last character in my_str is: h\n",
      "The last character in my_str is : h\n",
      "The character in my_str is: 8\n"
     ]
    }
   ],
   "source": [
    "my_str = \"Although 8 that way may not be obvious at first unless you're Dutch\"\n",
    "#Write the code to get the output,instructions are mentioned below print statement. use indexing\n",
    "\n",
    "print(f'The first character in my_str is : {my_str[0]}')\n",
    "\n",
    "#output:- The first character in my_str is: A\n",
    "#Note:- Use positive indexing\n",
    "\n",
    "print(f'The first character in my_str is : {my_str[-len(my_str)]}')\n",
    "\n",
    "#output:- The first character in my_str is: h\n",
    "#Note:- Use len() function.\n",
    "\n",
    "print(f'The character at index 10 in my_str is: {my_str[10]}')\n",
    "\n",
    "#output:- The character at index 10 in my_str is: ' '\n",
    "#Note:- Use positive indexing\n",
    "\n",
    "print(f'The last character in my_str is: {my_str[-1]}')\n",
    "\n",
    "#output:- The last character in my_str is: h\n",
    "#Note:- Use negative indexing.\n",
    "\n",
    "print(f'The last character in my_str is : {my_str[len(my_str)-1]}')\n",
    "\n",
    "#output:- The last character in my_str is: h\n",
    "#Note:- Use len() function.\n",
    "\n",
    "print(f'The character in my_str is: {my_str[9]}')\n",
    "\n",
    "#output:- The character in my_str is: 8\n",
    "#Note:- Use positive index"
   ]
  },
  {
   "cell_type": "markdown",
   "id": "7d218681-a374-48ba-89d5-fa37c6003091",
   "metadata": {},
   "source": [
    "## Slicing"
   ]
  },
  {
   "cell_type": "code",
   "execution_count": 73,
   "id": "7955eb95-3657-4c03-94d1-4ed63ce1b69e",
   "metadata": {},
   "outputs": [
    {
     "name": "stdout",
     "output_type": "stream",
     "text": [
      "Although that way may not be obvious at first unless you're Dutch.\n",
      "Although that way may not be obvious at first unless you're Dutch.\n",
      "Atog htwymyntb biu tfrtuls o'eDth\n",
      "Atog htwymyntb biu tfrtuls o'eDth\n",
      "\n",
      "\n",
      "Atog htwymyntb biu tfrtuls o'eDth\n",
      "Ahgttam tebo  r lsorDc\n",
      ".hctuD er'uoy sselnu tsrif ta suoivbo eb ton yam yaw taht hguohtlA\n",
      ".cu ruysen si asovoe o a a athuhl\n",
      "\n",
      "\n",
      "yaw ta\n",
      "ess you\n"
     ]
    }
   ],
   "source": [
    "my_str = \"Although that way may not be obvious at first unless you're Dutch.\"\n",
    "\n",
    "print(my_str[::]) #output:- You have sliced: Although that way may not be obvious at first unless you're Dutch.Without begin, end and step\n",
    "print(my_str[0:len(my_str)])#output:- You have sliced: Although that way may not be obvious at first unless you're Dutch.with begin as 0 end using len and without step\n",
    "print(my_str[::2])#output:- You have sliced: Although that way may not be obvious at first unless you're Dutch.without begin and end but using ste\n",
    "print(my_str[0:len(my_str):2])#output:- You have sliced: Although that way may not be obvious at first unless you're Dutch.With begin, end and step\n",
    "print(my_str[0:len(my_str):-1])  #output:- You have sliced:   .with using begin and end using postive values and step as negative values.\n",
    "print(my_str[0:len(my_str):-1])                                    #Slicing command should print empty string.\n",
    "print(my_str[0:len(my_str):2]) #output:- You have sliced: Atog htwymyntb biu tfrtuls o'eDth\n",
    "print(my_str[0:len(my_str):3])#output:- You have sliced: Ahgttam tebo  r lsorDc\n",
    "print(my_str[::-1])       #output:- You have sliced: .hctuD er'uoy sselnu tsrif ta suoivbo eb ton yam yaw taht hguohtlA. Use only step\n",
    "print(my_str[::-2])#output:- You have sliced: .cu ruysen si asovoe o a a athuhl. use only step\n",
    "print(my_str[0:len(my_str):-2]) #output:- You have sliced: .cu ruysen si asovoe o a a athuhl. use begin, end and step.\n",
    "print(my_str[10:17:-1]) #What will be the output?\n",
    "print(my_str[-50:-56:-1])  #output:- You have sliced: yaw ta, Using begin, end and step.\n",
    "\n",
    "print(my_str[49:56:1]) #output:- You have sliced: ess you. Using begin, end and step.\n"
   ]
  },
  {
   "cell_type": "code",
   "execution_count": 57,
   "id": "b5287688-f9ea-4cd7-925c-9644d7631b44",
   "metadata": {},
   "outputs": [
    {
     "name": "stdout",
     "output_type": "stream",
     "text": [
      "\n",
      "\n",
      "\n"
     ]
    }
   ],
   "source": [
    "my_str = \"Although that way may not be obvious at first unless you're Dutch.\"\n",
    "print(my_str[0:len(my_str):-1])\n",
    "print(my_str[0:len(my_str):-2]) #output:- You have sliced: .cu ruysen si asovoe o a a athuhl. use begin, end and step.\n",
    "print(my_str[10:17:-1]) #What will be the output?"
   ]
  },
  {
   "cell_type": "code",
   "execution_count": 8,
   "id": "b3ff3bbc-1025-48fb-a70d-5107be94ac95",
   "metadata": {},
   "outputs": [
    {
     "name": "stdout",
     "output_type": "stream",
     "text": [
      "Learnbay Python\n",
      "LearnbayLearnbayLearnbay\n"
     ]
    }
   ],
   "source": [
    "#Basic operation on string\n",
    "str1 = 'Learnbay'\n",
    "str2 = 'Python'\n",
    "\n",
    "#Write the code to get the output,instructions are mentioned below.\n",
    "print(str1 +\" \"+ str2)\n",
    "#Output is: Learnbay Python\n",
    "\n",
    "\n",
    "#Error: TypeError: can only concatenate str (not \"int\") to str\n",
    "\n",
    "\n",
    "#Error: TypeError: can only concatenate str (not \"float\") to str\n",
    "\n",
    "\n",
    "\n",
    "#Find below Output\n",
    "#Output is: LearnbayLearnbayLearnbay\n",
    "print(str1 * 3)\n",
    "\n",
    "#Error: TypeError: can't multiply sequence by non-int of type 'float'\n",
    "\n",
    "\n",
    "#Error: TypeError: can't multiply sequence by non-int of type 'str'\n"
   ]
  },
  {
   "cell_type": "code",
   "execution_count": 30,
   "id": "0cec6ad7-11ea-4dc2-b176-af469e3a458b",
   "metadata": {},
   "outputs": [
    {
     "name": "stdout",
     "output_type": "stream",
     "text": [
      "True\n",
      "False\n",
      "False\n",
      "True\n",
      "True\n",
      "False\n"
     ]
    }
   ],
   "source": [
    "#Find below Output\n",
    "str1 = 'Python'\n",
    "str2 = 'Python'\n",
    "str3 = 'Python$'\n",
    "str4 = 'Python$'\n",
    "\n",
    "#print True by using identity operator between str1 and str2\n",
    "if str1 is str2:\n",
    "   print(True)\n",
    "else:\n",
    "   print(False)\n",
    "#print False by using identity operator between str1 and str3\n",
    "\n",
    "if str1 is str3:\n",
    "   print(True)\n",
    "else:\n",
    "   print(False)\n",
    "#print False by using identity operator between str4 and str3\n",
    "if str4 is str3:\n",
    "   print(True)\n",
    "else:\n",
    "   print(False)\n",
    "\n",
    "#Check if P is available in str1 and print True by using membership operator\n",
    "if 'P' in str1:\n",
    "    print(True)\n",
    "else:\n",
    "    print(False)\n",
    "\n",
    "#Check if $ is available in str3 and print True by using membership operator\n",
    "if '$' in str3:\n",
    "    print(True)\n",
    "else:\n",
    "    print(False)\n",
    "\n",
    "#Check if N is available in str3 and print False by using membership operator\n",
    "if 'N' in str3:\n",
    "    print(True)\n",
    "else:\n",
    "    print(False)"
   ]
  },
  {
   "cell_type": "code",
   "execution_count": 36,
   "id": "8df7eca2-e9b1-454c-ab01-8ee0ec45a0c6",
   "metadata": {},
   "outputs": [
    {
     "ename": "TypeError",
     "evalue": "'str' object does not support item assignment",
     "output_type": "error",
     "traceback": [
      "\u001b[1;31m---------------------------------------------------------------------------\u001b[0m",
      "\u001b[1;31mTypeError\u001b[0m                                 Traceback (most recent call last)",
      "Cell \u001b[1;32mIn[36], line 6\u001b[0m\n\u001b[0;32m      2\u001b[0m str1 \u001b[38;5;241m=\u001b[39m \u001b[38;5;124m'\u001b[39m\u001b[38;5;124mThis is Python class\u001b[39m\u001b[38;5;124m'\u001b[39m\n\u001b[0;32m      3\u001b[0m \u001b[38;5;66;03m#if 'Python' in str1:\u001b[39;00m\n\u001b[0;32m      4\u001b[0m     \u001b[38;5;66;03m#Python = Java\u001b[39;00m\n\u001b[0;32m      5\u001b[0m \u001b[38;5;66;03m#print(str1)\u001b[39;00m\n\u001b[1;32m----> 6\u001b[0m str1[\u001b[38;5;241m8\u001b[39m:\u001b[38;5;241m14\u001b[39m] \u001b[38;5;241m=\u001b[39m \u001b[38;5;124m'\u001b[39m\u001b[38;5;124mJava\u001b[39m\u001b[38;5;124m'\u001b[39m\n",
      "\u001b[1;31mTypeError\u001b[0m: 'str' object does not support item assignment"
     ]
    }
   ],
   "source": [
    "#Complete the below code\n",
    "str1 = 'This is Python class'\n",
    "#if 'Python' in str1:\n",
    "    #Python = Java\n",
    "#print(str1)\n",
    "str1[8:14] = 'Java'\n",
    "#write the code to replace 'Python' with 'Java' and you should get below error.\n",
    "#TypeError: 'str' object does not support item assignment.\n"
   ]
  },
  {
   "cell_type": "code",
   "execution_count": 40,
   "id": "11da3df9-a56d-4975-ad43-ea3d009b9ab6",
   "metadata": {},
   "outputs": [
    {
     "name": "stdout",
     "output_type": "stream",
     "text": [
      "True\n",
      "True\n",
      "False\n",
      "False\n"
     ]
    }
   ],
   "source": [
    "str1 = 'A'\n",
    "str2 = 'A'\n",
    "#Compare str1 and str2 and print True using comparison operator\n",
    "print(str1 <= str2)\n",
    "\n",
    "#Compare str1 and str2 and print True using equality operator\n",
    "print(str1 == str2)\n",
    "#Compare str1 and str2 and print False using equality operator\n",
    "\n",
    "print(str1 != str2)\n",
    "#Compare str1 and str2 and print False using comparison operator\n",
    "print(str1 < str2)\n"
   ]
  },
  {
   "cell_type": "code",
   "execution_count": 11,
   "id": "bc4f1fac-caf5-4c0a-abc4-1b58b1cc2d34",
   "metadata": {},
   "outputs": [
    {
     "name": "stdout",
     "output_type": "stream",
     "text": [
      "True\n",
      "True\n",
      "False\n",
      "False\n"
     ]
    }
   ],
   "source": [
    "str1 = 'A'\n",
    "str2 = 'a'\n",
    "#Compare str1 and str2 and print True using comparison operator\n",
    "print(str1 <= str2)\n",
    "\n",
    "#Compare str1 and str2 and print True using equality operator\n",
    "\n",
    "print(str1 != str2)\n",
    "\n",
    "#Compare str1 and str2 and print False using equality operator\n",
    "\n",
    "print(str1 == str2)\n",
    "\n",
    "#Compare str1 and str2 and print False using comparison operator\n",
    "print(str1 > str2)"
   ]
  },
  {
   "cell_type": "code",
   "execution_count": 32,
   "id": "d784bd2d-a1ab-4153-868c-adbc36c85b73",
   "metadata": {},
   "outputs": [
    {
     "name": "stdout",
     "output_type": "stream",
     "text": [
      "False\n",
      "False\n",
      "True\n",
      "False\n"
     ]
    }
   ],
   "source": [
    "str1 = 'A'\n",
    "str2 = '65'\n",
    "#Compare str1 and str2 using comparison operator and it should give below error.\n",
    "#Error: TypeError: '>=' not supported between instances of 'str' and 'int'\n",
    "#print('A' < 65)\n",
    "print('A' < '65')\n",
    "print(str1 < str2)\n",
    "\n",
    "#Compare str1 and str2 and print True using equality operator\n",
    "print(str1 != str2)\n",
    "\n",
    "#Compare str1 and str2 and print False using equality operator\n",
    "\n",
    "print(str1 == str2)\n"
   ]
  },
  {
   "cell_type": "code",
   "execution_count": 40,
   "id": "dae50ca8-bdf6-4f26-bfb8-abbb408ff8e5",
   "metadata": {},
   "outputs": [
    {
     "name": "stdout",
     "output_type": "stream",
     "text": [
      "True\n",
      "True\n",
      "False\n",
      "False\n"
     ]
    }
   ],
   "source": [
    "str1 = 'Python'\n",
    "str2 = 'Python'\n",
    "#Compare str1 and str2 and print True using comparison operator\n",
    "\n",
    "print(str1 <= str2)\n",
    "\n",
    "#Compare str1 and str2 and print True using equality operator\n",
    "print(str1 == str2)\n",
    "\n",
    "#Compare str1 and str2 and print False using equality operator\n",
    "\n",
    "print(str1 != str2)\n",
    "\n",
    "#Compare str1 and str2 and print False using comparison operator\n",
    "print(str1 < str2)"
   ]
  },
  {
   "cell_type": "code",
   "execution_count": 50,
   "id": "eb504d2c-8c2d-4a33-abe8-6abac3916120",
   "metadata": {},
   "outputs": [
    {
     "name": "stdout",
     "output_type": "stream",
     "text": [
      "True\n",
      "True\n",
      "False\n",
      "False\n"
     ]
    }
   ],
   "source": [
    "str1 = 'Python'\n",
    "str2 = 'python'\n",
    "#Compare str1 and str2 and print True using comparison operator\n",
    "print(str1 <= str2)\n",
    "\n",
    "#Compare str1 and str2 and print True using equality operator\n",
    "\n",
    "print(str1 != str2)\n",
    "#Compare str1 and str2 and print False using equality operator\n",
    "\n",
    "print(str1 == str2)\n",
    "#Compare str1 and str2 and print False using comparison operator\n",
    "print(str1 > str2)"
   ]
  },
  {
   "cell_type": "code",
   "execution_count": 60,
   "id": "de325076-5c7c-4e1b-a34b-7ce471bc19dd",
   "metadata": {},
   "outputs": [
    {
     "name": "stdout",
     "output_type": "stream",
     "text": [
      "\n",
      "Python\n",
      "True\n",
      "False\n",
      "\n"
     ]
    }
   ],
   "source": [
    "a = 'Python'\n",
    "b = ''\n",
    "\n",
    "#Apply logical opereators (and, or & not) on above string values and observe the output.\n",
    "print(a and b)\n",
    "print(a or b)\n",
    "print(not b)\n",
    "print(not a)\n",
    "print()"
   ]
  },
  {
   "cell_type": "code",
   "execution_count": 82,
   "id": "9f5ea101-7913-4c2c-8bdc-bcebe4ccd33c",
   "metadata": {},
   "outputs": [
    {
     "name": "stdout",
     "output_type": "stream",
     "text": [
      "\n"
     ]
    }
   ],
   "source": [
    "a = ''\n",
    "b = ''\n",
    "\n",
    "#Apply logical opereators (and, or & not) on above string values and observe the output.\n",
    "print(a and b)\n",
    "print(a or b)\n",
    "#print(a)"
   ]
  },
  {
   "cell_type": "code",
   "execution_count": 72,
   "id": "27a43dea-07fd-4898-9abe-19cf641cba44",
   "metadata": {},
   "outputs": [
    {
     "name": "stdout",
     "output_type": "stream",
     "text": [
      "learnbay\n",
      "Python\n",
      "False\n"
     ]
    }
   ],
   "source": [
    "a = 'Python'\n",
    "b = 'learnbay'\n",
    "\n",
    "#Apply logical opereators (and, or & not) on above string values and observe the output.\n",
    "print(a and b) \n",
    "print(a or b)\n",
    "print(not a)"
   ]
  },
  {
   "cell_type": "code",
   "execution_count": 21,
   "id": "f8213d6e-05a7-4a86-8470-9cf6a6d09952",
   "metadata": {},
   "outputs": [
    {
     "name": "stdout",
     "output_type": "stream",
     "text": [
      "2\n",
      "7\n",
      "2\n",
      "9\n",
      "9\n",
      "-1\n"
     ]
    },
    {
     "ename": "ValueError",
     "evalue": "substring not found",
     "output_type": "error",
     "traceback": [
      "\u001b[1;31m---------------------------------------------------------------------------\u001b[0m",
      "\u001b[1;31mValueError\u001b[0m                                Traceback (most recent call last)",
      "Cell \u001b[1;32mIn[21], line 15\u001b[0m\n\u001b[0;32m     11\u001b[0m \u001b[38;5;66;03m#What will be the output of below code?\u001b[39;00m\n\u001b[0;32m     12\u001b[0m \u001b[38;5;28mprint\u001b[39m(my_str\u001b[38;5;241m.\u001b[39mfind(\u001b[38;5;124m'\u001b[39m\u001b[38;5;124mthe\u001b[39m\u001b[38;5;124m'\u001b[39m))\n\u001b[1;32m---> 15\u001b[0m \u001b[38;5;28mprint\u001b[39m(my_str\u001b[38;5;241m.\u001b[39mindex(\u001b[38;5;124m'\u001b[39m\u001b[38;5;124mthe\u001b[39m\u001b[38;5;124m'\u001b[39m))\n\u001b[0;32m     18\u001b[0m \u001b[38;5;28mprint\u001b[39m(my_str\u001b[38;5;241m.\u001b[39mfind(\u001b[38;5;124m'\u001b[39m\u001b[38;5;124mt\u001b[39m\u001b[38;5;124m'\u001b[39m, \u001b[38;5;241m9\u001b[39m, \u001b[38;5;241m15\u001b[39m))\n\u001b[0;32m     21\u001b[0m \u001b[38;5;28mprint\u001b[39m(my_str\u001b[38;5;241m.\u001b[39mrfind(\u001b[38;5;124m'\u001b[39m\u001b[38;5;124mu\u001b[39m\u001b[38;5;124m'\u001b[39m))\n",
      "\u001b[1;31mValueError\u001b[0m: substring not found"
     ]
    }
   ],
   "source": [
    "my_str = \"Although 8 that way may not be obvious at first unless you're Dutch\"\n",
    "\n",
    "#Write the code to get the total count of 't' in above string. Use find() and index() method.\n",
    "print(my_str.index('t'))\n",
    "print(my_str.count('t'))\n",
    "print(my_str.find('t'))\n",
    "#Write the code to get the index of '8' in my_str. Use find() and index() method.\n",
    "print(my_str.index('8'))\n",
    "print(my_str.find('8'))\n",
    "\n",
    "#What will be the output of below code?\n",
    "print(my_str.find('the'))\n",
    "\n",
    "\n",
    "print(my_str.index('the'))\n",
    "\n",
    "\n",
    "print(my_str.find('t', 9, 15))\n",
    "\n",
    "\n",
    "print(my_str.rfind('u'))\n",
    "\n",
    "\n",
    "print(my_str.rindex('u'))\n",
    "\n"
   ]
  },
  {
   "cell_type": "code",
   "execution_count": 31,
   "id": "6b3906c5-fe55-4c4d-853f-356bffa2539b",
   "metadata": {},
   "outputs": [
    {
     "name": "stdin",
     "output_type": "stream",
     "text": [
      "Enter a string:-  'manasa   '\n"
     ]
    },
    {
     "name": "stdout",
     "output_type": "stream",
     "text": [
      "Applying rstrip method as string ends with a space:  'manasa   '\n"
     ]
    }
   ],
   "source": [
    "#W A P which applies strip() method if any string, which will be taken from user, starts and ends with space, or applies \n",
    "#rrstrip() method if that string only ends with space or applies lstrip() method if that string only starts with a space.\n",
    "\n",
    "#For example:-\n",
    "#input:- '    Python   '\n",
    "#output:- 'Python'\n",
    "\n",
    "my_str = input('Enter a string:- ')\n",
    "if my_str.startswith(' ') and my_str.endswith(' '): \n",
    "  print('Applying strip method as string starts and ends with a space: ', my_str.strip())\n",
    "elif my_str.startswith(' '): \n",
    "  print('Applying lstrip method as string starts with a space: ', my_str.lstrip())\n",
    "else:\n",
    "  print('Applying rstrip method as string ends with a space: ', my_str.rstrip())\n",
    "\n",
    "#input:- '    Python'\n",
    "#output:- 'Python'\n",
    "\n",
    "#input:- 'Python   '\n",
    "#output:- 'Python'"
   ]
  },
  {
   "cell_type": "code",
   "execution_count": 33,
   "id": "0c7d6593-6b60-47b8-9aca-2c2ed60c525e",
   "metadata": {},
   "outputs": [
    {
     "name": "stdout",
     "output_type": "stream",
     "text": [
      "ALTHOUGH 8 THAT WAY MAY NOT BE OBVIOUS AT FIRST UNLESS YOU'RE DUTCH\n",
      "although 8 that way may not be obvious at first unless you're dutch\n",
      "aLTHOUGH 8 THAT WAY MAY NOT BE OBVIOUS AT FIRST UNLESS YOU'RE dUTCH\n"
     ]
    }
   ],
   "source": [
    "my_str = \"Although 8 that way may not be obvious at first unless you're Dutch\"\n",
    "\n",
    "#Write the code to convert all alphabets in my_str into upper case.\n",
    "print(my_str.upper())\n",
    "\n",
    "#Write the code to convert all alphabets in my_str into lower case.\n",
    "print(my_str.lower())\n",
    "\n",
    "#Write the code to swap the cases of all alphabets in my_str.(lower to upper and upper to lower)\n",
    "print(my_str.swapcase())\n"
   ]
  },
  {
   "cell_type": "code",
   "execution_count": 41,
   "id": "1e487076-b3fd-4d0b-867f-9a34fb7a9fcf",
   "metadata": {},
   "outputs": [
    {
     "name": "stdin",
     "output_type": "stream",
     "text": [
      "Enter a string :  manasa\n"
     ]
    },
    {
     "name": "stdout",
     "output_type": "stream",
     "text": [
      "Manasa\n"
     ]
    }
   ],
   "source": [
    "#Write the code which takes one string from user and if it starts with small case letter then convert it to corresponding \n",
    "#capital letter otherwise if starts with capital letters then convert first character of every word in that string into capital.\n",
    "new_str = input(\"Enter a string : \")\n",
    "if new_str[0].islower():\n",
    "   print(new_str.capitalize())\n",
    "else:\n",
    "   print(new_str.title())"
   ]
  },
  {
   "cell_type": "code",
   "execution_count": 65,
   "id": "09625c95-988b-457c-bab6-f73b998a6401",
   "metadata": {},
   "outputs": [
    {
     "name": "stdin",
     "output_type": "stream",
     "text": [
      "Enter a string manasa@1234 asv 768\n"
     ]
    },
    {
     "name": "stdout",
     "output_type": "stream",
     "text": [
      "False\n",
      "False\n",
      "False\n",
      "True\n",
      "False\n",
      "False\n",
      "False\n",
      "False\n",
      "False\n"
     ]
    }
   ],
   "source": [
    "#Take a string from user and check if it is:-\n",
    "#     1. alphanumeric\n",
    "#     2. alphabets\n",
    "#     3. digit\n",
    "#     4. all letters are in lower case\n",
    "#     5. all letters are in upper case\n",
    "#     6. in title case\n",
    "#     7. a space character\n",
    "#     8. numeric\n",
    "#     9. all number elements in string are decimal\n",
    "\n",
    "my_str = input(\"Enter a string\")\n",
    "print(my_str.isalnum())\n",
    "print(my_str.isalpha())\n",
    "print(my_str.isdigit())\n",
    "print(my_str.islower())\n",
    "print(my_str.isupper())\n",
    "print(my_str.istitle())\n",
    "print(my_str.isspace())\n",
    "print(my_str.isnumeric())\n",
    "print(my_str.isdecimal())"
   ]
  },
  {
   "cell_type": "code",
   "execution_count": 69,
   "id": "3581caf0-1918-4590-8de1-02b52ed51ce9",
   "metadata": {},
   "outputs": [
    {
     "name": "stdin",
     "output_type": "stream",
     "text": [
      "Enter a string to check abc$\n"
     ]
    },
    {
     "name": "stdout",
     "output_type": "stream",
     "text": [
      "False\n"
     ]
    }
   ],
   "source": [
    "#W A P which takes a string as an input and prints True if the string is valid identifier else returns False.\n",
    "#Sample Input:- 'abc', 'abc1', 'ab1c', '1abc', 'abc$', '_abc', 'if'\n",
    "\n",
    "import keyword\n",
    "my_str = input('Enter a string to check')\n",
    "print(False if (my_str in keyword.kwlist) else True if (my_str.isidentifier()) else False)"
   ]
  },
  {
   "cell_type": "code",
   "execution_count": 71,
   "id": "80763dc1-20bb-4ec0-a231-2283fb96696e",
   "metadata": {},
   "outputs": [
    {
     "name": "stdout",
     "output_type": "stream",
     "text": [
      "True\n",
      "False\n",
      "False\n",
      "True\n"
     ]
    }
   ],
   "source": [
    "#What will be output of below code?\n",
    "s = chr(65) + chr(97)\n",
    "print(s.isprintable())\n",
    "\n",
    "s = chr(27) + chr(97)\n",
    "print(s.isprintable())\n",
    "\n",
    "s = '\\n'\n",
    "print(s.isprintable())\n",
    "\n",
    "s = ''\n",
    "print(s.isprintable())"
   ]
  },
  {
   "cell_type": "code",
   "execution_count": 73,
   "id": "b9bb7288-d9d6-415f-aad9-7e41a50c1010",
   "metadata": {},
   "outputs": [
    {
     "name": "stdout",
     "output_type": "stream",
     "text": [
      "True\n",
      "True\n",
      "True\n",
      "True\n",
      "False\n",
      "False\n"
     ]
    }
   ],
   "source": [
    "#What will be output of below code?\n",
    "my_string = '  '\n",
    "print(my_string.isascii())\n",
    "\n",
    "my_string = 'Studytonight'\n",
    "print(my_string.isascii())\n",
    "\n",
    "my_string = 'Study tonight'\n",
    "print(my_string.isascii())\n",
    "\n",
    "my_string = 'Studytonight@123'\n",
    "print(my_string.isascii())\n",
    "\n",
    "my_string = '°'\n",
    "print(my_string.isascii())\n",
    "\n",
    "my_string = 'ö'\n",
    "print(my_string.isascii())"
   ]
  },
  {
   "cell_type": "code",
   "execution_count": 75,
   "id": "b9d250fc-ce72-4da5-8da9-4bb1a4378fb3",
   "metadata": {},
   "outputs": [
    {
     "name": "stdout",
     "output_type": "stream",
     "text": [
      "The strings are equal.\n"
     ]
    }
   ],
   "source": [
    "#What will be the output of below code?\n",
    "firstString = \"der Fluß\"\n",
    "secondString = \"der Fluss\"\n",
    "\n",
    "if firstString.casefold() == secondString.casefold():\n",
    "    print('The strings are equal.')\n",
    "else:\n",
    "    print('The strings are not equal.')"
   ]
  },
  {
   "cell_type": "code",
   "execution_count": 83,
   "id": "aa1279b2-db79-4494-8762-7524c079ab19",
   "metadata": {},
   "outputs": [
    {
     "name": "stdout",
     "output_type": "stream",
     "text": [
      "Python**\n",
      "**Python\n",
      "**Python**\n"
     ]
    }
   ],
   "source": [
    "#Write the code to get below output\n",
    "#O/P 1:- python** (using ljust method)\n",
    "my_str = 'Python'\n",
    "print(my_str.ljust(8, '*'))\n",
    "\n",
    "#Write the code to get below output\n",
    "#O/P 1:- **python (using rjust method)\n",
    "my_str = 'Python'\n",
    "print(my_str.rjust(8, '*'))\n",
    "\n",
    "#Write the code to get below output\n",
    "#O/P 1:- **python** (using rjust method)\n",
    "my_str = 'Python'\n",
    "print(my_str.center(10, '*'))"
   ]
  },
  {
   "cell_type": "code",
   "execution_count": 87,
   "id": "3e22f141-d514-44a6-838e-7c2176072a07",
   "metadata": {},
   "outputs": [
    {
     "name": "stdin",
     "output_type": "stream",
     "text": [
      "enter string :- Write a Python program to find the length of the my_str\n"
     ]
    },
    {
     "name": "stdout",
     "output_type": "stream",
     "text": [
      "55\n"
     ]
    }
   ],
   "source": [
    "#Write a Python program to find the length of the my_str:-\n",
    "\n",
    "#Input:- 'Write a Python program to find the length of the my_str'\n",
    "#Output:- 55\n",
    "my_str = input(\"enter string :-\")\n",
    "print(len(my_str))"
   ]
  },
  {
   "cell_type": "code",
   "execution_count": 91,
   "id": "712a0cc5-ce56-452d-b744-9524112bcfc6",
   "metadata": {},
   "outputs": [
    {
     "name": "stdout",
     "output_type": "stream",
     "text": [
      "9\n"
     ]
    }
   ],
   "source": [
    "#Write a Python program to find the total number of times letter 'p' is appeared in the below string:-\n",
    "    \n",
    "#Input:- 'peter piper picked a peck of pickled peppers.'\n",
    "#Output:- 9\n",
    "my_str = 'peter piper picked a peck of pickled peppers.'\n",
    "print(my_str.count('p'))\n"
   ]
  },
  {
   "cell_type": "code",
   "execution_count": 95,
   "id": "0a7e4f45-bf05-4c94-85e6-8c3a1062d26c",
   "metadata": {},
   "outputs": [
    {
     "name": "stdout",
     "output_type": "stream",
     "text": [
      "0\n",
      "6\n",
      "8\n",
      "12\n",
      "21\n",
      "29\n",
      "37\n",
      "39\n",
      "40\n"
     ]
    }
   ],
   "source": [
    "#Write a Python Program, to print all the indexes of all occurences of letter 'p' appeared in the string:-\n",
    "    \n",
    "#Input:- 'peter piper picked a peck of pickled peppers.'\n",
    "#Output:- \n",
    "# 0\n",
    "# 6\n",
    "# 8\n",
    "# 12\n",
    "# 21\n",
    "# 29\n",
    "# 37\n",
    "# 39\n",
    "# 40\n",
    "x = 'peter piper picked a peck of pickled peppers.'\n",
    "for i in range(0, len(x)):\n",
    "    if x[i] == 'p':\n",
    "      print(x.find('p',i))"
   ]
  },
  {
   "cell_type": "code",
   "execution_count": 101,
   "id": "45566a66-d815-47c1-9b55-f3ea724a4458",
   "metadata": {},
   "outputs": [
    {
     "name": "stdout",
     "output_type": "stream",
     "text": [
      "['peter', 'piper', 'picked', 'a', 'peck', 'of', 'pickled', 'peppers.']\n"
     ]
    }
   ],
   "source": [
    "#Write a python program to find below output:-\n",
    "\n",
    "#Input:- 'peter piper picked a peck of pickled peppers.'\n",
    "#Output:- ['peter', 'piper', 'picked', 'a', 'peck', 'of', 'pickled', 'peppers.']\n",
    "\n",
    "str1 = 'peter piper picked a peck of pickled peppers.'\n",
    "print(str1.split())"
   ]
  },
  {
   "cell_type": "code",
   "execution_count": 103,
   "id": "f0351c2b-4ba3-49af-9b50-403f0e89b0d1",
   "metadata": {},
   "outputs": [
    {
     "name": "stdout",
     "output_type": "stream",
     "text": [
      "peppers. pickled of peck a picked piper peter\n"
     ]
    }
   ],
   "source": [
    "#Write a python program to find below output:-\n",
    "\n",
    "#Input:- 'peter piper picked a peck of pickled peppers.'\n",
    "#Output:- 'peppers. pickled of peck a picked piper peter'\n",
    "x = 'peter piper picked a peck of pickled peppers.'\n",
    "print(' '.join(x.split()[::-1]))\n"
   ]
  },
  {
   "cell_type": "code",
   "execution_count": 105,
   "id": "0bb9ce76-bbce-440f-af58-cdc5acd040d4",
   "metadata": {},
   "outputs": [
    {
     "name": "stdout",
     "output_type": "stream",
     "text": [
      ".sreppep delkcip fo kcep a dekcip repip retep\n"
     ]
    }
   ],
   "source": [
    "#Write a python program to find below output:-\n",
    "\n",
    "#Input:- 'peter piper picked a peck of pickled peppers.'\n",
    "#Output:- '.sreppep delkcip fo kcep a dekcip repip retep'\n",
    "x = 'peter piper picked a peck of pickled peppers.'\n",
    "print(x[::-1])"
   ]
  },
  {
   "cell_type": "code",
   "execution_count": 1,
   "id": "3a6c4fd4-b200-46c0-b088-b371fa35f759",
   "metadata": {},
   "outputs": [
    {
     "name": "stdout",
     "output_type": "stream",
     "text": [
      "retep repip dekcip a kcep fo delkcip .sreppep\n"
     ]
    }
   ],
   "source": [
    "#Write a python program to find below output:-\n",
    "\n",
    "#Input:- 'peter piper picked a peck of pickled peppers.'\n",
    "#Output:- 'retep repip dekcip a kcep fo delkcip .sreppep'\n",
    "\n",
    "inp_str = 'peter piper picked a peck of pickled peppers.'\n",
    "print(' '.join([i[::-1] for i in inp_str.split()]))"
   ]
  },
  {
   "cell_type": "code",
   "execution_count": 107,
   "id": "8f405a31-4af1-431f-8349-2681b204cf43",
   "metadata": {},
   "outputs": [
    {
     "name": "stdout",
     "output_type": "stream",
     "text": [
      "Peter Piper Picked A Peck Of Pickled Peppers.\n"
     ]
    }
   ],
   "source": [
    "#Write a python program to find below output:-\n",
    "\n",
    "#Input:- 'peter piper picked a peck of pickled peppers.'\n",
    "#Output:- 'Peter Piper Picked A Peck Of Pickled Peppers.'\n",
    "x = 'peter piper picked a peck of pickled peppers.'\n",
    "print(x.title())"
   ]
  },
  {
   "cell_type": "code",
   "execution_count": 109,
   "id": "59ea0713-5a8d-4c1d-8a37-010eac1f488c",
   "metadata": {},
   "outputs": [
    {
     "name": "stdout",
     "output_type": "stream",
     "text": [
      "Peter piper picked a peck of pickled peppers.\n"
     ]
    }
   ],
   "source": [
    "#Write a python program to find below output:-\n",
    "\n",
    "#Input:- 'Peter Piper Picked A Peck Of Pickled Peppers.'\n",
    "#Output:- 'Peter piper picked a peck of pickled peppers.'\n",
    "\n",
    "inp_str = 'Peter Piper Picked A Peck Of Pickled Peppers.'\n",
    "print(inp_str.capitalize())\n"
   ]
  },
  {
   "cell_type": "code",
   "execution_count": 111,
   "id": "3e929e69-d6b1-42b6-ada7-8e9fbebd6f9f",
   "metadata": {},
   "outputs": [
    {
     "name": "stdout",
     "output_type": "stream",
     "text": [
      "29\n"
     ]
    }
   ],
   "source": [
    "#Write a python program to implement index method. If sub_str is found in my_str then it will print the index\n",
    "# of first occurrence of first character of matching string in my_str:-\n",
    "\n",
    "#Input:- my_str = 'Peter Piper Picked A Peck Of Pickled Peppers.', sub_str = 'Pickl'\n",
    "#Output:- 29\n",
    "x = 'Peter Piper Picked A Peck Of Pickled Peppers.'\n",
    "print(x.index('Pickl'))\n"
   ]
  },
  {
   "cell_type": "code",
   "execution_count": 113,
   "id": "b8ec12cf-2b7d-4fad-af5d-038277147d59",
   "metadata": {},
   "outputs": [
    {
     "name": "stdout",
     "output_type": "stream",
     "text": [
      "Peter Piper Picked A Pack Of Pickled Peppers.\n"
     ]
    }
   ],
   "source": [
    "#Write a python program to implement replace method. If sub_str is found in my_str then it will replace the first \n",
    "#occurrence of sub_str with new_str else it will will print sub_str not found:-\n",
    "\n",
    "#Input:- my_str = 'Peter Piper Picked A Peck Of Pickled Peppers.', sub_str = 'Peck', new_str = 'Pack'\n",
    "#Output:- 'Peter Piper Picked A Pack Of Pickled Peppers.'\n",
    "print(x.replace('Peck','Pack'))"
   ]
  },
  {
   "cell_type": "code",
   "execution_count": 115,
   "id": "e1069997-4014-4f81-947a-7fbf76b23953",
   "metadata": {},
   "outputs": [
    {
     "data": {
      "text/plain": [
       "'*****************Peck************************'"
      ]
     },
     "execution_count": 115,
     "metadata": {},
     "output_type": "execute_result"
    }
   ],
   "source": [
    "#Write a python program to find below output (implements rjust and ljust):-\n",
    "\n",
    "#Input:- 'Peter Piper Picked A Peck Of Pickled Peppers.', sub_str = 'Peck', \n",
    "#Output:- '*********************Peck********************'\n",
    "input_str = 'Peter Piper Picked A Peck Of Pickled Peppers.'\n",
    "sub_str = 'Peck'\n",
    "sub_str.rjust(input_str.find(sub_str),'*').ljust(len(input_str),'*')"
   ]
  },
  {
   "cell_type": "markdown",
   "id": "cebca908-1c82-4dc1-b9bc-57ad3613d998",
   "metadata": {},
   "source": [
    "## Write a program that accepts a string from user. Your program should count and display number of vowels in that string."
   ]
  },
  {
   "cell_type": "code",
   "execution_count": 27,
   "id": "212d04fa-0ff8-489f-bd41-418e08b051c7",
   "metadata": {},
   "outputs": [
    {
     "name": "stdin",
     "output_type": "stream",
     "text": [
      "Enter the string :- am a good girl so what iam not bad\n"
     ]
    },
    {
     "name": "stdout",
     "output_type": "stream",
     "text": [
      "11\n"
     ]
    }
   ],
   "source": [
    "My_str = input(\"Enter the string :-\")\n",
    "count = 0\n",
    "for i in range(len(My_str)):\n",
    "    if My_str[i] == 'a' or My_str[i] =='e' or My_str[i] == 'i' or My_str[i] =='o' or My_str[i] == 'u':\n",
    "       #print(My_str[i])\n",
    "       count += 1\n",
    "print(count)"
   ]
  },
  {
   "cell_type": "markdown",
   "id": "1ebdbe54-7423-4ad7-a59b-65e784aac8fd",
   "metadata": {},
   "source": [
    "## Write a program that reads a string from keyboard and display:1.The number of uppercase letters in the string\n",
    "The number of lowercase letters in the string\n",
    "The number of digits in the string\n",
    "The number of whitespace characters in the string"
   ]
  },
  {
   "cell_type": "code",
   "execution_count": 53,
   "id": "276a7ce2-f01d-4e7f-8bc6-d05a92e16ed6",
   "metadata": {},
   "outputs": [
    {
     "name": "stdin",
     "output_type": "stream",
     "text": [
      "Enter a string ASD fgh 123 ASD tyuik ADGST 567\n"
     ]
    },
    {
     "name": "stdout",
     "output_type": "stream",
     "text": [
      "upper case letters are :  11\n",
      "lower case letters are :  8\n",
      "digits in a string are :  6\n",
      "spaces in a string are :  6\n"
     ]
    }
   ],
   "source": [
    "New_str = input(\"Enter a string\")\n",
    "count = 0\n",
    "count1 = 0\n",
    "count2 = 0\n",
    "count3 = 0\n",
    "for i in range(len(New_str)):\n",
    "    if New_str[i].isupper():\n",
    "         count += 1\n",
    "    elif New_str[i].islower():\n",
    "         count1 += 1\n",
    "    elif New_str[i].isdigit():\n",
    "         count2 += 1\n",
    "    elif New_str[i].isspace():\n",
    "         count3 += 1\n",
    "    else:\n",
    "        print(\"Not string\")\n",
    "print(\"upper case letters are : \", count)\n",
    "print(\"lower case letters are : \", count1)\n",
    "print(\"digits in a string are : \", count2)\n",
    "print(\"spaces in a string are : \", count3)"
   ]
  },
  {
   "cell_type": "markdown",
   "id": "0cd9fe0c-6281-4ba5-8783-975f01d985b4",
   "metadata": {},
   "source": [
    "## Write a Python program that accepts a string from user. Your program should create and display a new string where the first and last characters have been exchanged. For example if the user enters the string 'HELLO' then new string would be 'OELLH'"
   ]
  },
  {
   "cell_type": "code",
   "execution_count": 75,
   "id": "5d966848-2ad1-465f-a30f-75559cd63eda",
   "metadata": {},
   "outputs": [
    {
     "name": "stdin",
     "output_type": "stream",
     "text": [
      "enter a string HELLO\n"
     ]
    },
    {
     "name": "stdout",
     "output_type": "stream",
     "text": [
      "OELLH\n"
     ]
    }
   ],
   "source": [
    "str1 = input(\"enter a string\")\n",
    "if len(str1) < 2:\n",
    "    print(\"No swap\")\n",
    "else:\n",
    "    print(str1[-1] + str1[1:-1] + str1[0])"
   ]
  },
  {
   "cell_type": "markdown",
   "id": "61b8f214-ac11-42b8-953b-f7c600342cb0",
   "metadata": {},
   "source": [
    "## Write a Python program that accepts a string from user. Your program should create a new string in reverse of first string and display it.\n",
    "For example if the user enters the string 'EXAM' then new string would be 'MAXE'"
   ]
  },
  {
   "cell_type": "code",
   "execution_count": 77,
   "id": "d3b63f74-38d0-4c3b-925a-76e821c03bb4",
   "metadata": {},
   "outputs": [
    {
     "name": "stdin",
     "output_type": "stream",
     "text": [
      "Enter a string EXAM\n"
     ]
    },
    {
     "name": "stdout",
     "output_type": "stream",
     "text": [
      "MAXE\n"
     ]
    }
   ],
   "source": [
    "str2 = input(\"Enter a string\")\n",
    "print(str2[::-1])"
   ]
  },
  {
   "cell_type": "markdown",
   "id": "071d4104-ac27-4941-a67c-88bac54ec130",
   "metadata": {},
   "source": [
    "## Write a Python program that accepts a string from user. Your program should create a new string by shifting one position to left.\n",
    "For example if the user enters the string 'examination 2021' then new string would be 'xamination 2021e'"
   ]
  },
  {
   "cell_type": "code",
   "execution_count": 99,
   "id": "97c33781-69c2-48ae-aad1-0af0ec14f0cf",
   "metadata": {},
   "outputs": [
    {
     "name": "stdin",
     "output_type": "stream",
     "text": [
      "Enter a string  examination 2021\n"
     ]
    },
    {
     "name": "stdout",
     "output_type": "stream",
     "text": [
      "xamination 2021e\n"
     ]
    }
   ],
   "source": [
    "str3 = input(\"Enter a string \")\n",
    "if len(str3) < 2:\n",
    "    print(\"No swap\")\n",
    "else:\n",
    "    print(str3[1:] + str3[0])"
   ]
  },
  {
   "cell_type": "markdown",
   "id": "6eab1515-8b0c-42f4-bd5f-3193ab6f9164",
   "metadata": {},
   "source": [
    "## Write a program that asks the user to input his name and print its initials. Assuming that the user always types first name, middle name and last name and does not include any unnecessary spaces.\n",
    "For example, if the user enters Ajay Kumar Garg the program should display A. K. G. Note:Don't use split() method"
   ]
  },
  {
   "cell_type": "code",
   "execution_count": 113,
   "id": "c903e920-d84b-4d86-a19f-8fc1ce81eff2",
   "metadata": {},
   "outputs": [
    {
     "name": "stdin",
     "output_type": "stream",
     "text": [
      "enter a string MNASA good \n"
     ]
    },
    {
     "name": "stdout",
     "output_type": "stream",
     "text": [
      " M. g. \n"
     ]
    }
   ],
   "source": [
    "str4 = input(\"enter a string\")\n",
    "initials = \" \"\n",
    "#print(type(initials))\n",
    "for i in range(len(str4)):\n",
    "        if i == 0 or str4[i-1] == \" \":\n",
    "            initials += str4[i] + \". \"\n",
    "print(initials) "
   ]
  },
  {
   "cell_type": "markdown",
   "id": "5cd992f0-8b8c-4cd4-a395-f7a93df5d90f",
   "metadata": {},
   "source": [
    "## A palindrome is a string that reads the same backward as forward. For example, the words dad, madam and radar are all palindromes. Write a programs that determines whether the string is a palindrome."
   ]
  },
  {
   "cell_type": "code",
   "execution_count": 117,
   "id": "9cf16ab4-bd95-40e9-8b90-edb6ea484fca",
   "metadata": {},
   "outputs": [
    {
     "name": "stdin",
     "output_type": "stream",
     "text": [
      "enter a string radar\n"
     ]
    },
    {
     "name": "stdout",
     "output_type": "stream",
     "text": [
      "Palindome number is  radar\n"
     ]
    }
   ],
   "source": [
    "palindrome = input(\"enter a string\")\n",
    "print(\"Palindome number is \", palindrome[::-1])"
   ]
  },
  {
   "cell_type": "code",
   "execution_count": null,
   "id": "825ece38-e40b-4884-a154-3e594bf27a7b",
   "metadata": {},
   "outputs": [],
   "source": []
  },
  {
   "cell_type": "markdown",
   "id": "ebc76797-aa77-44be-8172-c10311d1e14b",
   "metadata": {},
   "source": [
    "## LOOPS"
   ]
  },
  {
   "cell_type": "code",
   "execution_count": null,
   "id": "ad719ed4-c7a3-4112-a6b1-cdc1287eec8d",
   "metadata": {},
   "outputs": [],
   "source": [
    "Q. W. A P. which takes one number from 0 to 9 from the user and prints \n",
    "it in the word. And if the word is not from 0 to 9 then \n",
    "it should print that number is outside of the range and program should \n",
    "exit. \n",
    "For exapmple:- \n",
    "input = 1 \n",
    "output = one "
   ]
  },
  {
   "cell_type": "code",
   "execution_count": 9,
   "id": "22c1776d-9c63-4fb3-a2ee-3aa00bd9662b",
   "metadata": {},
   "outputs": [
    {
     "name": "stdin",
     "output_type": "stream",
     "text": [
      "Input =  6\n"
     ]
    },
    {
     "name": "stdout",
     "output_type": "stream",
     "text": [
      "six\n"
     ]
    }
   ],
   "source": [
    "n = input(\"Input = \")\n",
    "if n == '1':\n",
    "    print(\"One\")\n",
    "elif n == '2':\n",
    "    print(\"Two\") \n",
    "elif n == '3':\n",
    "    print(\"Three\")\n",
    "elif n == '4':\n",
    "    print(\"Four\")\n",
    "elif n == '5':\n",
    "    print(\"five\")\n",
    "elif n == '6':\n",
    "    print(\"six\")\n",
    "elif n == '7':\n",
    "    print(\"seven\")\n",
    "elif n == '8':\n",
    "    print(\"Eight\")\n",
    "elif n == '9':\n",
    "    print(\"nine\")\n",
    "else:\n",
    "    print(\"OUT OF RANGE\")"
   ]
  },
  {
   "cell_type": "code",
   "execution_count": null,
   "id": "69d4b3ad-32a0-4308-88be-09db63cffab5",
   "metadata": {},
   "outputs": [],
   "source": [
    " \n",
    "Q. W. A P. to implement calculator but the operation to be done and two \n",
    "numbers will be taken as input from user:- \n",
    "Operation console should show below:- \n",
    "   Please select any one operation from below:- \n",
    "       * To add enter 1 \n",
    "       * to subtract enter 2 \n",
    "       * To multiply enter 3 \n",
    "       * To divide enter 4 \n",
    "       * To divide and find quotient enter 5 \n",
    "       * To divide and find remainder enter 6 \n",
    "       * To divide and find num1 to the power of num2 enter 7 \n",
    "       * To Come out of the program enter 8"
   ]
  },
  {
   "cell_type": "code",
   "execution_count": 13,
   "id": "bba822d1-d1a7-4b41-987b-7b0bccb20d20",
   "metadata": {},
   "outputs": [
    {
     "name": "stdin",
     "output_type": "stream",
     "text": [
      "Enter 1st number 2\n",
      "Enter 2nd number 3\n",
      "Please select any one operation from below:- 7\n"
     ]
    },
    {
     "name": "stdout",
     "output_type": "stream",
     "text": [
      "8\n"
     ]
    }
   ],
   "source": [
    "a = int(input(\"Enter 1st number\"))\n",
    "b = int(input(\"Enter 2nd number\"))\n",
    "n = input(\"Please select any one operation from below:-\")\n",
    "if n == '1':\n",
    "    print(a + b)\n",
    "elif n =='2':\n",
    "    print(a - b)\n",
    "elif n =='3':\n",
    "    print(a * b)\n",
    "elif n =='4':\n",
    "    print(a / b)\n",
    "elif n == '5':\n",
    "    print(a // b)\n",
    "elif n =='6':\n",
    "    print(a % b)\n",
    "elif n =='7':\n",
    "    print(a ** b)\n",
    "else:\n",
    "    print(\"out of program\")"
   ]
  },
  {
   "cell_type": "code",
   "execution_count": 29,
   "id": "73676108-9631-4d83-b4ed-6229083c7363",
   "metadata": {},
   "outputs": [
    {
     "ename": "SyntaxError",
     "evalue": "invalid syntax (483844538.py, line 1)",
     "output_type": "error",
     "traceback": [
      "\u001b[1;36m  Cell \u001b[1;32mIn[29], line 1\u001b[1;36m\u001b[0m\n\u001b[1;33m    Q. W A P to check whether a year entered by user is an leap year or not?\u001b[0m\n\u001b[1;37m         ^\u001b[0m\n\u001b[1;31mSyntaxError\u001b[0m\u001b[1;31m:\u001b[0m invalid syntax\n"
     ]
    }
   ],
   "source": [
    "Q. W A P to check whether a year entered by user is an leap year or not? \n",
    "Check with below input:- \n",
    "   leap year:- 2012, 1968, 2004, 1200, 1600,2400 \n",
    "   Non-lear year:- 1971, 2006, 1700,1800,1900 "
   ]
  },
  {
   "cell_type": "code",
   "execution_count": 51,
   "id": "1e0cc930-4603-4770-9208-716c7e82aeb0",
   "metadata": {},
   "outputs": [
    {
     "name": "stdin",
     "output_type": "stream",
     "text": [
      "Please enter a year 2004\n"
     ]
    },
    {
     "name": "stdout",
     "output_type": "stream",
     "text": [
      "2004 it is leap year\n"
     ]
    }
   ],
   "source": [
    "year = int(input(\"Please enter a year\"))\n",
    "if (year % 4 == 0 and year % 100 != 0)  or year % 400 == 0:\n",
    "    print(f\"{year} is leap year\")\n",
    "else:\n",
    "    print(\"not leap year\")"
   ]
  },
  {
   "cell_type": "code",
   "execution_count": null,
   "id": "07ca1d46-de98-4e5d-80b6-9bd8d446a5d0",
   "metadata": {},
   "outputs": [],
   "source": [
    " Q. W A P which takes one number from the user and checks whether it is \n",
    "an even or odd number?, If it even then prints number is \n",
    "even number else prints that number is odd number. "
   ]
  },
  {
   "cell_type": "code",
   "execution_count": 67,
   "id": "24186bef-22d1-4de6-bff0-580eee212514",
   "metadata": {},
   "outputs": [
    {
     "name": "stdin",
     "output_type": "stream",
     "text": [
      "Enter a number 11\n"
     ]
    },
    {
     "name": "stdout",
     "output_type": "stream",
     "text": [
      "11 is odd number\n"
     ]
    }
   ],
   "source": [
    "num = int(input(\"Enter a number\"))\n",
    "if num % 2 == 0:\n",
    "    print(f\"{num} is even number\")\n",
    "else:\n",
    "    print(f\"{num} is odd number\")\n"
   ]
  },
  {
   "cell_type": "code",
   "execution_count": null,
   "id": "3bf1c27a-1897-4e47-b814-bf9c3a769680",
   "metadata": {},
   "outputs": [],
   "source": [
    "Q. W A P which takes two numbers from the user and prints below output:- \n",
    "   1. num1 is greater than num2 if num1 is greater than num2 \n",
    "   2. num1 is smaller than num2 if num1 is smaller than num2 \n",
    "   3. num1 is equal to num2 if num1 and num2 are equal\n",
    "Note:- 1. Do this problem using if - else \n",
    "     2. Do this using ternary operator"
   ]
  },
  {
   "cell_type": "code",
   "execution_count": 83,
   "id": "759e5aae-9833-48c1-92f2-67b539a0f6ab",
   "metadata": {},
   "outputs": [
    {
     "name": "stdin",
     "output_type": "stream",
     "text": [
      "Enter first number  6\n",
      "enter second number 4\n"
     ]
    },
    {
     "name": "stdout",
     "output_type": "stream",
     "text": [
      "6 is greater than 4\n"
     ]
    }
   ],
   "source": [
    "num1 = int(input(\"Enter first number \"))\n",
    "num2 = int(input(\"enter second number\"))\n",
    "if num1 > num2:\n",
    "    print(f\"{num1} is greater than {num2}\")\n",
    "else:\n",
    "    print(f\"{num2} is greater than {num1}\")"
   ]
  },
  {
   "cell_type": "code",
   "execution_count": 87,
   "id": "2ef90045-9249-438a-92f2-a6e08e121fd7",
   "metadata": {},
   "outputs": [
    {
     "name": "stdin",
     "output_type": "stream",
     "text": [
      "Enter first number  6\n",
      "enter second number 7\n"
     ]
    },
    {
     "name": "stdout",
     "output_type": "stream",
     "text": [
      "6 is small than 7\n"
     ]
    }
   ],
   "source": [
    "num1 = int(input(\"Enter first number \"))\n",
    "num2 = int(input(\"enter second number\"))\n",
    "result = f\"{num1} is small than {num2}\" if num1 < num2 else f\"{num2} is smaller than {num1}\"\n",
    "print(result)"
   ]
  },
  {
   "cell_type": "code",
   "execution_count": 91,
   "id": "78be139f-abf1-49f8-b1b9-eed36fcc2e37",
   "metadata": {},
   "outputs": [
    {
     "name": "stdin",
     "output_type": "stream",
     "text": [
      "Enter first number  3\n",
      "enter second number 5\n"
     ]
    },
    {
     "name": "stdout",
     "output_type": "stream",
     "text": [
      "3 is not equal to 5\n"
     ]
    }
   ],
   "source": [
    "num1 = int(input(\"Enter first number \"))\n",
    "num2 = int(input(\"enter second number\"))\n",
    "if num1 == num2:\n",
    "    print(f\"{num1} is equal to {num2}\")\n",
    "else:\n",
    "    print(f\"{num1} is not equal to {num2}\")"
   ]
  },
  {
   "cell_type": "code",
   "execution_count": null,
   "id": "2ca4daf5-1c23-47ad-b947-d3a70660a8f5",
   "metadata": {},
   "outputs": [],
   "source": [
    "Q. W A P which takes three numbers from the user and prints below \n",
    "output:- \n",
    "   1. num1 is greater than num2 and num3 if num1 is greater than num2 \n",
    "and num3 \n",
    "   2. num2 is greater than num1 and num3 if num2 is greater than num1 \n",
    "and num3 \n",
    "   3. num3 is greater than num1 and num2 if num3 is greater than num1 \n",
    "and num2 \n",
    " \n",
    "Note:- 1. Do this problem using if - elif - else \n",
    "     2. Do this using ternary operator \n",
    " \n",
    "a = a if a>b else b \n",
    "expr if cond1 else expr2 if cond2 else expr3"
   ]
  },
  {
   "cell_type": "code",
   "execution_count": 105,
   "id": "6735457a-95d9-488b-bd7d-d2d1b0bc59d1",
   "metadata": {},
   "outputs": [
    {
     "name": "stdin",
     "output_type": "stream",
     "text": [
      "Enter first number  8\n",
      "enter second number 6\n",
      "Enter third number  9\n"
     ]
    },
    {
     "name": "stdout",
     "output_type": "stream",
     "text": [
      "9 is greater than 6 and 8\n"
     ]
    }
   ],
   "source": [
    "num1 = int(input(\"Enter first number \"))\n",
    "num2 = int(input(\"enter second number\"))\n",
    "num3 = int(input(\"Enter third number \"))\n",
    "if num1 > (num2 and num3):\n",
    "    print(f\"{num1} is greater than {num2} and {num3}\")\n",
    "elif num2 > (num1 and num3):\n",
    "    print(f\"{num2} is greater than {num1} and {num3}\")\n",
    "elif num3 > (num1 and num2):\n",
    "    print(f\"{num3} is greater than {num2} and {num1}\")\n",
    "else:\n",
    "    print(\"invalid number\")\n"
   ]
  },
  {
   "cell_type": "code",
   "execution_count": 111,
   "id": "9e3029fb-52b3-4306-b7b3-6b20a371e18b",
   "metadata": {},
   "outputs": [
    {
     "name": "stdin",
     "output_type": "stream",
     "text": [
      "Enter first number  6\n",
      "enter second number 7\n",
      "Enter third number  8\n"
     ]
    },
    {
     "name": "stdout",
     "output_type": "stream",
     "text": [
      "num3 is greater\n"
     ]
    }
   ],
   "source": [
    "num1 = int(input(\"Enter first number \"))\n",
    "num2 = int(input(\"enter second number\"))\n",
    "num3 = int(input(\"Enter third number \"))\n",
    "result =  \"num1 is greater\"   if num1 > (num2 and num3) else \" num2 is greater\" if  num2 > (num1 and num3) else \"num3 is greater\" if  num3 > (num1 and num2) else \"invalid number\"\n",
    "print(result)"
   ]
  },
  {
   "cell_type": "markdown",
   "id": "3b6b9054-d2ae-4990-87ce-aeb07174b7bb",
   "metadata": {},
   "source": [
    "## Loops - for loop, while loop"
   ]
  },
  {
   "cell_type": "code",
   "execution_count": null,
   "id": "ef622b61-ceb5-474d-ba35-93484119ca07",
   "metadata": {},
   "outputs": [],
   "source": [
    "Q. Write a Python program to find the length of the my_str using loop:- \n",
    " \n",
    "Input:- 'Write a Python program to find the length of the my_str' \n",
    "Output:- 55 "
   ]
  },
  {
   "cell_type": "code",
   "execution_count": 141,
   "id": "71541f2c-a72d-49d5-9fc1-88ad48909541",
   "metadata": {},
   "outputs": [
    {
     "name": "stdout",
     "output_type": "stream",
     "text": [
      "55\n"
     ]
    }
   ],
   "source": [
    "str = 'Write a Python program to find the length of the my_str' \n",
    "count = 0\n",
    "for i in str:\n",
    "   count += 1\n",
    "print(count)"
   ]
  },
  {
   "cell_type": "code",
   "execution_count": 1,
   "id": "019a1633-cf8d-464b-b216-50a721e1b429",
   "metadata": {},
   "outputs": [
    {
     "ename": "SyntaxError",
     "evalue": "invalid syntax (2594900757.py, line 1)",
     "output_type": "error",
     "traceback": [
      "\u001b[1;36m  Cell \u001b[1;32mIn[1], line 1\u001b[1;36m\u001b[0m\n\u001b[1;33m    Q. Write a Python program to find the total number of times letter 'p'\u001b[0m\n\u001b[1;37m             ^\u001b[0m\n\u001b[1;31mSyntaxError\u001b[0m\u001b[1;31m:\u001b[0m invalid syntax\n"
     ]
    }
   ],
   "source": [
    "Q. Write a Python program to find the total number of times letter 'p' \n",
    "is appeared in the below string using loop:- \n",
    "  \n",
    "Input:- 'peter piper picked a peck of pickled peppers.\\n' \n",
    "Output:- 9"
   ]
  },
  {
   "cell_type": "code",
   "execution_count": 143,
   "id": "11f5efc6-6ca4-492a-8acc-0164e8edda6f",
   "metadata": {},
   "outputs": [
    {
     "name": "stdout",
     "output_type": "stream",
     "text": [
      "9\n"
     ]
    }
   ],
   "source": [
    "str = 'peter piper picked a peck of pickled peppers.\\n' \n",
    "count = 0\n",
    "for i in str:\n",
    "   if i == 'p':\n",
    "      count += 1\n",
    "print(count)"
   ]
  },
  {
   "cell_type": "code",
   "execution_count": null,
   "id": "4663b454-8708-486c-85b0-daf57056a417",
   "metadata": {},
   "outputs": [],
   "source": [
    "Q. Write a Python Program, to print all the indexes of all occurences of \n",
    "letter 'p' appeared in the string using loop:- \n",
    "  \n",
    "Input:- 'peter piper picked a peck of pickled peppers.' \n",
    "Output:- \n",
    "0 \n",
    "6 \n",
    "8 \n",
    "12 \n",
    "21 \n",
    "29 \n",
    "37 \n",
    "39 \n",
    "40"
   ]
  },
  {
   "cell_type": "code",
   "execution_count": 5,
   "id": "8cb31b8b-c3a1-46ea-8fa7-a472d24ccda1",
   "metadata": {},
   "outputs": [
    {
     "name": "stdout",
     "output_type": "stream",
     "text": [
      "0\n",
      "6\n",
      "8\n",
      "12\n",
      "21\n",
      "29\n",
      "37\n",
      "39\n",
      "40\n"
     ]
    }
   ],
   "source": [
    "str = 'peter piper picked a peck of pickled peppers.\\n' \n",
    "for index, value in enumerate(str):\n",
    "   if str[index] == 'p':\n",
    "     print(index)"
   ]
  },
  {
   "cell_type": "markdown",
   "id": "ce8f1e12-d07d-4570-bcc4-340598c0f7f8",
   "metadata": {},
   "source": [
    "## Q. Write a python program to find below output using loop:- \n",
    " \n",
    "Input:- 'peter piper picked a peck of pickled peppers.' \n",
    "Output:- ['peter', 'piper', 'picked', 'a', 'peck', 'of', 'pickled', \n",
    "'peppers']"
   ]
  },
  {
   "cell_type": "code",
   "execution_count": 7,
   "id": "292958f2-8983-494e-9323-12f09d2ec59e",
   "metadata": {},
   "outputs": [
    {
     "name": "stdout",
     "output_type": "stream",
     "text": [
      "['peter', 'piper', 'picked', 'a', 'peck', 'of', 'pickled', 'peppers.']\n"
     ]
    }
   ],
   "source": [
    "new_str = 'peter piper picked a peck of pickled peppers.' \n",
    "print(new_str.split())"
   ]
  },
  {
   "cell_type": "markdown",
   "id": "fe9fe749-c06d-4701-a089-bc871238fc12",
   "metadata": {},
   "source": [
    "## Q. Write a python program to find below output using loop:- \n",
    " \n",
    "Input:- 'peter piper picked a peck of pickled peppers.' \n",
    "Output:- 'peppers pickled of peck a picked piper peter'"
   ]
  },
  {
   "cell_type": "code",
   "execution_count": 37,
   "id": "0478956a-8594-4c7a-a211-2872c5a6e50a",
   "metadata": {},
   "outputs": [
    {
     "name": "stdout",
     "output_type": "stream",
     "text": [
      ".sreppep delkcip fo kcep a dekcip repip retep .sreppep delkcip fo kcep a dekcip repip retep .sreppep delkcip fo kcep a dekcip repip retep .sreppep delkcip fo kcep a dekcip repip retep .sreppep delkcip fo kcep a dekcip repip retep .sreppep delkcip fo kcep a dekcip repip retep .sreppep delkcip fo kcep a dekcip repip retep .sreppep delkcip fo kcep a dekcip repip retep\n"
     ]
    }
   ],
   "source": [
    "str1 = 'peter piper picked a peck of pickled peppers.' \n",
    "rev = str1.split()\n",
    "print(\" \".join(rev[::-1]))\n",
    "#rint(' '.join([str1[::-1] for i in str1.split()]))"
   ]
  },
  {
   "cell_type": "code",
   "execution_count": null,
   "id": "f20de8c6-f773-45fd-bf95-7dca3b59b8a7",
   "metadata": {},
   "outputs": [],
   "source": [
    "Q. Write a python program to find below output using loop:- \n",
    " \n",
    "Input:- 'peter piper picked a peck of pickled peppers.' \n",
    "Output:- '.sreppep delkcip fo kcep a dekcip repip retep'"
   ]
  },
  {
   "cell_type": "code",
   "execution_count": 23,
   "id": "52279f2e-3586-4bb3-9311-c592f1316147",
   "metadata": {},
   "outputs": [
    {
     "name": "stdout",
     "output_type": "stream",
     "text": [
      ".sreppep delkcip fo kcep a dekcip repip retep\n"
     ]
    }
   ],
   "source": [
    "str1 = 'peter piper picked a peck of pickled peppers.' \n",
    "print(str1[::-1])"
   ]
  },
  {
   "cell_type": "markdown",
   "id": "94736d56-7844-4fbf-9541-0fad943a9cda",
   "metadata": {},
   "source": [
    "## Q. Write a python program to find below output using loop:- \n",
    " \n",
    "Input:- 'peter piper picked a peck of pickled peppers.' \n",
    "Output:- 'retep repip dekcip a kcep fo delkcip sreppep'"
   ]
  },
  {
   "cell_type": "code",
   "execution_count": 33,
   "id": "61b63688-32d1-4cb0-884d-41a78e3c87c9",
   "metadata": {},
   "outputs": [
    {
     "name": "stdout",
     "output_type": "stream",
     "text": [
      "retep repip dekcip a kcep fo delkcip .sreppep\n"
     ]
    }
   ],
   "source": [
    "str1 = 'peter piper picked a peck of pickled peppers.' \n",
    "print(\" \".join([i[::-1] for i in str1.split()]))"
   ]
  },
  {
   "cell_type": "markdown",
   "id": "ffeb069c-c808-4ced-9ead-aa328fef9053",
   "metadata": {},
   "source": [
    "## Q. Write a python program to find below output using loop:- \r\n",
    " \r\n",
    "Input:- 'peter piper picked a peck of pickled peppers.' \r\n",
    "Output:- 'Peter Piper Picked A Peck Of Pickled Peppers' "
   ]
  },
  {
   "cell_type": "code",
   "execution_count": 39,
   "id": "a63382a5-0011-411d-91d7-cdd81397829a",
   "metadata": {},
   "outputs": [
    {
     "name": "stdout",
     "output_type": "stream",
     "text": [
      "Peter Piper Picked A Peck Of Pickled Peppers.\n"
     ]
    }
   ],
   "source": [
    "new_str = 'peter piper picked a peck of pickled peppers.' \n",
    "print(new_str.title())"
   ]
  },
  {
   "cell_type": "markdown",
   "id": "ab2e95b4-a53c-4960-af05-f351d2746585",
   "metadata": {},
   "source": [
    "## Q. Write a python program to find below output using loop:- \r\n",
    " \r\n",
    "Input:- 'Peter Piper Picked A Peck Of Pickled Peppers.' \r\n",
    "Output:- 'Peter piper picked a peck of pickled peppers' "
   ]
  },
  {
   "cell_type": "code",
   "execution_count": 41,
   "id": "70681d40-286c-4f1f-a701-a82568fed95f",
   "metadata": {},
   "outputs": [
    {
     "name": "stdout",
     "output_type": "stream",
     "text": [
      "Peter piper picked a peck of pickled peppers.\n"
     ]
    }
   ],
   "source": [
    "new_str = 'peter piper picked a peck of pickled peppers.' \n",
    "print(new_str.capitalize())"
   ]
  },
  {
   "cell_type": "markdown",
   "id": "cbc087ee-98a9-4e58-81b3-2cf183246aab",
   "metadata": {},
   "source": [
    "## Q. Write a python program to implement index method using loop. If \r\n",
    "sub_str is found in my_str then it will print the index \r\n",
    "of first occurrence of first character of matching string in my_str:- \r\n",
    " \r\n",
    "Input:- my_str = 'Peter Piper Picked A Peck Of Pickled Peppers.', \r\n",
    "sub_str = 'Pickl' \r\n",
    "Output:- 29 "
   ]
  },
  {
   "cell_type": "code",
   "execution_count": 83,
   "id": "e9b19f26-8e08-4580-a4a0-b937f44578c9",
   "metadata": {},
   "outputs": [
    {
     "name": "stdout",
     "output_type": "stream",
     "text": [
      "29\n",
      "The substring 'Pickl' is found at index 29.\n"
     ]
    }
   ],
   "source": [
    "my_str = 'Peter Piper Picked A Peck Of Pickled Peppers.'\n",
    "sub_str = 'Pickl'\n",
    "if sub_str in my_str:\n",
    "    index = my_str.find(sub_str)\n",
    "    print(index)\n",
    "    print(f\"The substring '{sub_str}' is found at index {index}.\")\n",
    "else:\n",
    "    print(f\"The substring '{sub_str}' is not found in the string.\")\n",
    "\n"
   ]
  },
  {
   "cell_type": "markdown",
   "id": "1bda7a29-0932-412a-a356-5c93544d1fc7",
   "metadata": {},
   "source": [
    "## Q. Write a python program to implement replace method using loop. If \r\n",
    "sub_str is found in my_str then it will replace the first \r\n",
    "occurrence of sub_str with new_str else it will will print sub_str not \r\n",
    "found:- \r\n",
    " \r\n",
    "Input:- my_str = 'Peter Piper Picked A Peck Of Pickled Peppers.', \r\n",
    "sub_str = 'Peck', new_str = 'Pack' \r\n",
    "Output:- 'Peter Piper Picked A Pack Of Pickled Peppers.' "
   ]
  },
  {
   "cell_type": "code",
   "execution_count": 95,
   "id": "a6a5ae34-745e-427f-86dc-a38b4c1c03e1",
   "metadata": {},
   "outputs": [
    {
     "name": "stdout",
     "output_type": "stream",
     "text": [
      "Peter Piper Picked A Pack Of Pickled Peppers.\n"
     ]
    }
   ],
   "source": [
    "my_str = 'Peter Piper Picked A Peck Of Pickled Peppers.'\n",
    "sub_str = 'Peck' \n",
    "new_str = 'Pack' \n",
    "if sub_str in my_str:\n",
    "    new_str1 = my_str.replace(sub_str, new_str)\n",
    "    print(new_str1)\n",
    "else:\n",
    "    print(\"sub_str not found\")"
   ]
  },
  {
   "cell_type": "markdown",
   "id": "bf248f95-26cc-4f7d-97dc-f48fd2186bdd",
   "metadata": {},
   "source": [
    "## Q. Write a python program to find below output (implements rjust and \n",
    "ljust) using loop:- \n",
    " \n",
    "Input:- 'Peter Piper Picked A Peck Of Pickled Peppers.', sub_str = \n",
    "'Peck', \n",
    "Output:- '*********************Peck********************' "
   ]
  },
  {
   "cell_type": "code",
   "execution_count": 103,
   "id": "64e23d46-ce12-42f5-ba91-b21d5ff4e0fe",
   "metadata": {},
   "outputs": [
    {
     "data": {
      "text/plain": [
       "'*****************Peck************************'"
      ]
     },
     "execution_count": 103,
     "metadata": {},
     "output_type": "execute_result"
    }
   ],
   "source": [
    "my_str = 'Peter Piper Picked A Peck Of Pickled Peppers.'\n",
    "sub_str = 'Peck' \n",
    "sub_str.rjust(my_str.find(sub_str),'*').ljust(len(my_str),'*')"
   ]
  },
  {
   "cell_type": "markdown",
   "id": "49afd69b-7cf4-4ac3-870b-966e94e99983",
   "metadata": {},
   "source": [
    "## Q. Write a python program to find below output using loop:- \n",
    " \n",
    "Input:- 'This is Python class', sep = ' is', \n",
    "Output:- ['This', 'is', 'Python class'] "
   ]
  },
  {
   "cell_type": "code",
   "execution_count": null,
   "id": "29bcc611-aa7b-406f-9570-c1bf7db58a4b",
   "metadata": {},
   "outputs": [],
   "source": []
  },
  {
   "cell_type": "markdown",
   "id": "ce860594-1f27-4e06-b9f5-36923a37c621",
   "metadata": {},
   "source": [
    "## Looping structures"
   ]
  },
  {
   "cell_type": "markdown",
   "id": "8d52339e-93f3-4bf9-8d6f-86cff9327bc2",
   "metadata": {},
   "source": [
    "## write a program to print numbers from 1 to 10."
   ]
  },
  {
   "cell_type": "code",
   "execution_count": 6,
   "id": "46b4a04e-fd60-4a34-806b-8c19ba6d441c",
   "metadata": {},
   "outputs": [
    {
     "name": "stdin",
     "output_type": "stream",
     "text": [
      "enter a number 11\n"
     ]
    },
    {
     "name": "stdout",
     "output_type": "stream",
     "text": [
      "1\n",
      "2\n",
      "3\n",
      "4\n",
      "5\n",
      "6\n",
      "7\n",
      "8\n",
      "9\n",
      "10\n"
     ]
    }
   ],
   "source": [
    "n = int(input(\"enter a number\"))\n",
    "for i in range(1, n):\n",
    "    print(i)"
   ]
  },
  {
   "cell_type": "markdown",
   "id": "cb1c02f9-e8be-4184-9ec7-2ae9947d158c",
   "metadata": {},
   "source": [
    "## Write a program that asks the user for a positive integer value. The program should calculate the sum of all the integers from 1 up to the number entered. For example, if the user enters 20, the loop will find the sum of 1, 2, 3, 4, ... 20. Solution"
   ]
  },
  {
   "cell_type": "code",
   "execution_count": 3,
   "id": "a0e8a699-c7a9-44d9-8bf3-03682a86cc48",
   "metadata": {},
   "outputs": [
    {
     "name": "stdin",
     "output_type": "stream",
     "text": [
      "enter a number 20\n"
     ]
    },
    {
     "name": "stdout",
     "output_type": "stream",
     "text": [
      "190\n"
     ]
    }
   ],
   "source": [
    "n = int(input(\"enter a number\"))\n",
    "sum = 0\n",
    "for i in range(n):\n",
    "    sum += i\n",
    "print(sum)"
   ]
  },
  {
   "cell_type": "markdown",
   "id": "006d92a8-982e-4709-9f9e-6d5216c2991e",
   "metadata": {},
   "source": [
    "## Write a program that prompts the user to input a number and prints its mulitiplication table."
   ]
  },
  {
   "cell_type": "code",
   "execution_count": 13,
   "id": "d7b1a1d2-51e4-4679-8698-fc7a70f97588",
   "metadata": {},
   "outputs": [
    {
     "name": "stdin",
     "output_type": "stream",
     "text": [
      "Enter a number 5\n"
     ]
    },
    {
     "name": "stdout",
     "output_type": "stream",
     "text": [
      "5 X 1 = 20\n",
      "5 X 2 = 40\n",
      "5 X 3 = 60\n",
      "5 X 4 = 80\n",
      "5 X 5 = 100\n",
      "5 X 6 = 120\n",
      "5 X 7 = 140\n",
      "5 X 8 = 160\n",
      "5 X 9 = 180\n",
      "5 X 10 = 200\n"
     ]
    }
   ],
   "source": [
    "num = int(input(\"Enter a number\"))\n",
    "for i in range(1, 11):\n",
    "    result = n * i;\n",
    "    print(f\"{num} X {i} = {result}\")"
   ]
  },
  {
   "cell_type": "markdown",
   "id": "26b1cf8c-c2bb-4153-87e8-296dc87ba5a8",
   "metadata": {},
   "source": [
    "## Write a program that prompts the user to input a number and prints its factorial. The factorial of an integer n is defined as n! = 1 x 2 x 3 x ... x n; if n > 0 = 1; if n = 0 For instance, 6! can be calculated as 1 x 2 x 3 x 4 x 5 x"
   ]
  },
  {
   "cell_type": "code",
   "execution_count": null,
   "id": "195d3fdc-3f50-4fbc-9670-cf6baa83115e",
   "metadata": {},
   "outputs": [],
   "source": [
    "n = int(input(\"enter a number\"))\n",
    "fact = 1\n",
    "if n == 0:\n",
    "    print(\" factorial of o is 1\")\n",
    "else:\n",
    "    for i in range(1, n+1):\n",
    "        fact = fact * i\n",
    "print(\"Factorial number is \", fact)"
   ]
  },
  {
   "cell_type": "markdown",
   "id": "5dc0b066-89dc-499d-8cbe-385774607bfe",
   "metadata": {},
   "source": [
    "## Two numbers are entered through the keyboard. Write a program to find the value of one number raised to the power of another."
   ]
  },
  {
   "cell_type": "code",
   "execution_count": 29,
   "id": "c1c3986c-505b-4503-959c-ed6d7d34f7d9",
   "metadata": {},
   "outputs": [
    {
     "name": "stdin",
     "output_type": "stream",
     "text": [
      "enter a number 2\n",
      "enter a number 3\n"
     ]
    },
    {
     "name": "stdout",
     "output_type": "stream",
     "text": [
      "8\n"
     ]
    }
   ],
   "source": [
    "n1 = int(input(\"enter a number\"))\n",
    "n2 = int(input(\"enter a number\"))\n",
    "print(n1 ** n2)"
   ]
  },
  {
   "cell_type": "markdown",
   "id": "44ed5579-04dd-4285-aeb8-54cbd4a077bb",
   "metadata": {},
   "source": [
    "## Write a program that prompts the user to input a number and reverse its digits. For example, the reverse of 12345 is 54321; reverse of 5600 is 65. Solution"
   ]
  },
  {
   "cell_type": "code",
   "execution_count": 1,
   "id": "dcf5cc56-d904-462e-968c-24e50d4fee9d",
   "metadata": {},
   "outputs": [
    {
     "name": "stdin",
     "output_type": "stream",
     "text": [
      "enter a number 123\n"
     ]
    },
    {
     "name": "stdout",
     "output_type": "stream",
     "text": [
      "reversed number : 321\n"
     ]
    }
   ],
   "source": [
    "rev_num = int(input(\"enter a number\"))\n",
    "reversed_num = 0\n",
    "while rev_num != 0:\n",
    "   digit = rev_num % 10\n",
    "   reversed_num = reversed_num * 10 + digit\n",
    "   rev_num //= 10\n",
    "print(\"reversed number : \" + str(reversed_num))"
   ]
  },
  {
   "cell_type": "markdown",
   "id": "36087023-8318-4b02-8b7a-8646ba0d0da4",
   "metadata": {},
   "source": [
    "## Write a program that asks the user to input a positive integer. Your program should find and display the sum of digits of number. For example, sum of digits of number 32518 is 3+2+5+1+8 = 19. Solution"
   ]
  },
  {
   "cell_type": "code",
   "execution_count": 18,
   "id": "77bbfbda-abf3-471a-b195-f8e85077aeae",
   "metadata": {},
   "outputs": [
    {
     "name": "stdin",
     "output_type": "stream",
     "text": [
      "enter a number: 32518\n"
     ]
    },
    {
     "name": "stdout",
     "output_type": "stream",
     "text": [
      "19\n"
     ]
    }
   ],
   "source": [
    "n = input(\"enter a number:\")\n",
    "sum = 0\n",
    "for i in n:\n",
    "    sum += int(i)\n",
    "print(sum)"
   ]
  },
  {
   "cell_type": "markdown",
   "id": "92e739e9-07e9-49ed-9eb9-a2bc836d8580",
   "metadata": {},
   "source": [
    "## A palindromic number is a number that remains the same when its digits are reversed. For example, 16461. Write a program that prompts the user to input a number and determine whether the number is palindrome or not."
   ]
  },
  {
   "cell_type": "code",
   "execution_count": 22,
   "id": "a62631c9-2f87-4c9d-aa0c-4b11d8fc4351",
   "metadata": {},
   "outputs": [
    {
     "name": "stdin",
     "output_type": "stream",
     "text": [
      "enter a number 16461\n"
     ]
    },
    {
     "name": "stdout",
     "output_type": "stream",
     "text": [
      "reversed number : 16461\n"
     ]
    }
   ],
   "source": [
    "rev_num = int(input(\"enter a number\"))\n",
    "reversed_num = 0\n",
    "while rev_num != 0:\n",
    "   digit = rev_num % 10\n",
    "   reversed_num = reversed_num * 10 + digit\n",
    "   rev_num //= 10\n",
    "print(\"reversed number : \" + str(reversed_num))"
   ]
  },
  {
   "cell_type": "code",
   "execution_count": null,
   "id": "0da01727-1272-482c-bdff-d7c9d980ebb8",
   "metadata": {},
   "outputs": [],
   "source": []
  }
 ],
 "metadata": {
  "kernelspec": {
   "display_name": "Python 3 (ipykernel)",
   "language": "python",
   "name": "python3"
  },
  "language_info": {
   "codemirror_mode": {
    "name": "ipython",
    "version": 3
   },
   "file_extension": ".py",
   "mimetype": "text/x-python",
   "name": "python",
   "nbconvert_exporter": "python",
   "pygments_lexer": "ipython3",
   "version": "3.12.4"
  }
 },
 "nbformat": 4,
 "nbformat_minor": 5
}
