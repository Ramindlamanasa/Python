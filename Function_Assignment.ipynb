{
 "cells": [
  {
   "cell_type": "code",
   "execution_count": null,
   "metadata": {
    "id": "1YVTYu-CuCOO"
   },
   "outputs": [],
   "source": [
    "# Define a function calls addNumber(x, y) that takes in two number and returns the sum of the two numbers."
   ]
  },
  {
   "cell_type": "code",
   "execution_count": 1,
   "metadata": {},
   "outputs": [
    {
     "data": {
      "text/plain": [
       "8"
      ]
     },
     "execution_count": 1,
     "metadata": {},
     "output_type": "execute_result"
    }
   ],
   "source": [
    "def addNumber(x, y):\n",
    "  c=x+y\n",
    "  return c\n",
    "\n",
    "addNumber(3,5)"
   ]
  },
  {
   "cell_type": "code",
   "execution_count": 9,
   "metadata": {
    "id": "1-gIq-Rju2i2"
   },
   "outputs": [
    {
     "data": {
      "text/plain": [
       "6"
      ]
     },
     "execution_count": 9,
     "metadata": {},
     "output_type": "execute_result"
    }
   ],
   "source": [
    "# Define a function calls subtractNumber(x, y) that takes in two numbers and returns the difference of the two numbers.\n",
    "def subtractNumber(x, y):\n",
    "  c=x-y\n",
    "  return c\n",
    "\n",
    "subtractNumber(11,5)\n"
   ]
  },
  {
   "cell_type": "code",
   "execution_count": 11,
   "metadata": {
    "id": "kiAE0iLbviG9"
   },
   "outputs": [
    {
     "data": {
      "text/plain": [
       "10"
      ]
     },
     "execution_count": 11,
     "metadata": {},
     "output_type": "execute_result"
    }
   ],
   "source": [
    "# Write a function getBiggerNumber(x, y) that takes in two numbers as arguments and returns the bigger number.\n",
    "\n",
    "def getBiggerNumber(x, y):\n",
    "    if x > y:\n",
    "        return x\n",
    "    else:\n",
    "        return y\n",
    "\n",
    "getBiggerNumber(10,5)"
   ]
  },
  {
   "cell_type": "code",
   "execution_count": 13,
   "metadata": {
    "id": "10B5oVcZh16d"
   },
   "outputs": [
    {
     "name": "stdout",
     "output_type": "stream",
     "text": [
      "4.0\n",
      "4\n",
      "4\n",
      "8.0\n",
      "8\n",
      "8\n",
      "28.274333882308138\n",
      "29\n",
      "28\n"
     ]
    }
   ],
   "source": [
    "# Python provides many built-in modules with many useful functions. \n",
    "# One such module is the math module. The math module provides many useful functions such as sqrt(x), pow(x, y), ceil(x), floor(x) etc. \n",
    "# You will need to do a \"import math\" before you are allowed to use the functions within the math module.\n",
    "\n",
    "import math\n",
    "# Calculate the square root of 16 and stores it in the variable a\n",
    "a =math.sqrt(16)\n",
    "print(a)\n",
    "print(math.ceil(a))\n",
    "print(math.floor(a))\n",
    "# Calculate 3 to the power of 5 and stores it in the variable b\n",
    "a = math.pow(2,3)\n",
    "print(a)\n",
    "print(math.ceil(a))\n",
    "print(math.floor(a))\n",
    "# Calculate area of circle with radius = 3.0 by making use of the math.pi constant and store it in the variable c\n",
    "r = 3.0\n",
    "c = math.pi*r*r\n",
    "print(c)\n",
    "print(math.ceil(c))\n",
    "print(math.floor(c))\n"
   ]
  },
  {
   "cell_type": "code",
   "execution_count": 9,
   "metadata": {
    "id": "Yado0B99h2E_"
   },
   "outputs": [
    {
     "name": "stdin",
     "output_type": "stream",
     "text": [
      "Enter a number 28\n"
     ]
    },
    {
     "name": "stdout",
     "output_type": "stream",
     "text": [
      "convert Celsius to Fahrenheit ... 82.4\n"
     ]
    }
   ],
   "source": [
    "# Write a function to convert temperature from Celsius to Fahrenheit scale.\n",
    "# oC to oF Conversion: Multipy by 9, then divide by 5, then add 32.\n",
    "\n",
    "# Note: Return a string of 2 decimal places.\n",
    "# In - Cel2Fah(28.0)\n",
    "# Out - '82.40'\n",
    "# In - Cel2Fah(0.00)\n",
    "# Out - '32.00'\n",
    "\n",
    "def Cel2Fah(num):\n",
    "    num = (num * 9/5) + 32\n",
    "    return num\n",
    "\n",
    "num = float(input(\"Enter a number\"))\n",
    "print(\"convert Celsius to Fahrenheit ...\", Cel2Fah(num))"
   ]
  },
  {
   "cell_type": "code",
   "execution_count": 25,
   "metadata": {
    "id": "n7lsFol9h2ID"
   },
   "outputs": [
    {
     "name": "stdin",
     "output_type": "stream",
     "text": [
      "Enter person weight 63\n",
      "Enter person height 1.7\n"
     ]
    },
    {
     "name": "stdout",
     "output_type": "stream",
     "text": [
      "Weight of a person is .. 21.79930795847751\n"
     ]
    }
   ],
   "source": [
    "# Write a function to compute the BMI of a person.\n",
    "#     BMI = weight(kg)  /  ( height(m)*height(m) )\n",
    "\n",
    "# Note: Return a string of 1 decimal place.\n",
    "# In - BMI(63, 1.7)\n",
    "# Out - '21.8'\n",
    "# In - BMI(110, 2)\n",
    "# Out - '27.5'\n",
    "\n",
    "def BMI(Weight, Height):\n",
    "    bmi = Weight/(Height * Height)\n",
    "    return bmi\n",
    "\n",
    "Weight = eval(input(\"Enter person weight\"))\n",
    "Height = eval(input(\"Enter person height\"))\n",
    "print(\"Weight of a person is ..\", BMI(Weight, Height))"
   ]
  },
  {
   "cell_type": "code",
   "execution_count": 29,
   "metadata": {
    "id": "f2tV1AU8h2LN"
   },
   "outputs": [
    {
     "name": "stdin",
     "output_type": "stream",
     "text": [
      "Enter value 51\n",
      "Enter Total 51\n"
     ]
    },
    {
     "name": "stdout",
     "output_type": "stream",
     "text": [
      "Percentage is  100.0\n"
     ]
    }
   ],
   "source": [
    "# Write a function percent(value, total) that takes in two numbers as arguments, and returns the percentage value as an integer.\n",
    "# In - percent(46, 90)\n",
    "# Out - 51\n",
    "# In - percent(51, 51)\n",
    "# Out - 100\n",
    "# In - percent(63, 12)\n",
    "# Out - 525\n",
    "\n",
    "def percent(value, total):\n",
    "    percentage = (value/total) * 100\n",
    "    return percentage\n",
    "\n",
    "value = eval(input(\"Enter value\"))\n",
    "total = eval(input(\"Enter Total\"))\n",
    "print(\"Percentage is \", percent(value,total))\n"
   ]
  },
  {
   "cell_type": "code",
   "execution_count": 39,
   "metadata": {
    "id": "QyoWR3dQh2OZ"
   },
   "outputs": [
    {
     "name": "stdin",
     "output_type": "stream",
     "text": [
      "enter a value 3\n",
      "enter b value 4\n"
     ]
    },
    {
     "name": "stdout",
     "output_type": "stream",
     "text": [
      "hypotenuse is  5.0\n"
     ]
    }
   ],
   "source": [
    "# Write a function to compute the hypotenuse given sides a and b of the triangle.\n",
    "# Hint: You can use math.sqrt(x) to compute the square root of x.\n",
    "# In - hypotenuse(3, 4)\n",
    "# Out - 5\n",
    "# In - hypotenuse(5, 12)\n",
    "# Out - 13\n",
    "import math\n",
    "def hypotenuse(a, b):\n",
    "    c = pow(a,2) + pow(b, 2)\n",
    "    #hyp = math.sqrt(c)\n",
    "    hyp = pow(c, 1/2)\n",
    "    return hyp\n",
    "\n",
    "a = int(input(\"enter a value\"))\n",
    "b = int(input(\"enter b value\"))\n",
    "print(\"hypotenuse is \",hypotenuse(a,b))"
   ]
  },
  {
   "cell_type": "code",
   "execution_count": 11,
   "metadata": {
    "id": "XthPUigkh2Ro"
   },
   "outputs": [
    {
     "name": "stdout",
     "output_type": "stream",
     "text": [
      "sum is  21\n"
     ]
    }
   ],
   "source": [
    "##Write a function getSumOfLastDigits() that takes in a list of positive numbers and returns the sum of all the last digits in the list.\n",
    "# getSumOfLastDigits([2, 3, 4])\n",
    "# 9\n",
    "# getSumOfLastDigits([1, 23, 456])\n",
    "# 10\n",
    "\n",
    "def getSumOfLastDigits(lst):\n",
    "    sum = 0\n",
    "    for i in lst:\n",
    "        sum += i\n",
    "    return sum\n",
    "\n",
    "lst = [1,2,3,4,5,6]\n",
    "print(\"sum is \", getSumOfLastDigits(lst))"
   ]
  },
  {
   "cell_type": "code",
   "execution_count": 21,
   "metadata": {
    "id": "T-uIqm9Mh2Un"
   },
   "outputs": [
    {
     "name": "stdin",
     "output_type": "stream",
     "text": [
      "Enter name lim\n",
      "Enter age 20\n"
     ]
    },
    {
     "name": "stdout",
     "output_type": "stream",
     "text": [
      "My name is lim. I am 20 years old.\n"
     ]
    }
   ],
   "source": [
    "# Write a function that uses a default value.\n",
    "# In - introduce('Lim', 20)\n",
    "# Out - 'My name is Lim. I am 20 years old.'\n",
    "# In - introduce('Ahmad')\n",
    "# Out - 'My name is Ahmad. My age is secret.'\n",
    "\n",
    "def introduce(name, age):\n",
    "    out = print(\"My name is {}. I am {} years old.\".format(name, age))\n",
    "    return out\n",
    "\n",
    "name = input(\"Enter name\")\n",
    "age = int(input(\"Enter age\"))\n",
    "introduce(name, age)\n"
   ]
  },
  {
   "cell_type": "code",
   "execution_count": 29,
   "metadata": {
    "id": "h0pXo5vH6wA-"
   },
   "outputs": [
    {
     "name": "stdin",
     "output_type": "stream",
     "text": [
      " Enter a value 3\n",
      " Enter a value 3\n",
      " Enter a value 3\n"
     ]
    },
    {
     "data": {
      "text/plain": [
       "True"
      ]
     },
     "execution_count": 29,
     "metadata": {},
     "output_type": "execute_result"
    }
   ],
   "source": [
    "# Write a function isEquilateral(x, y, z) that accepts the 3 sides of a triangle as arguments. \n",
    "# The program should return True if it is an equilateral triangle.\n",
    "\n",
    "# In - isEquilateral(2, 4, 3)\n",
    "# False - False\n",
    "# In - isEquilateral(3, 3, 3)\n",
    "# Out - True\n",
    "# In - isEquilateral(-3, -3, -3)\n",
    "# Out - False\n",
    "\n",
    "def isEquilateral(a, b, c):\n",
    "    if a == b and b ==c and c == a:\n",
    "        return True\n",
    "    else:\n",
    "        return False\n",
    "\n",
    "a = eval(input(\" Enter a value\"))\n",
    "b = eval(input(\" Enter a value\"))\n",
    "c = eval(input(\" Enter a value\"))\n",
    "isEquilateral(a, b, c)"
   ]
  },
  {
   "cell_type": "code",
   "execution_count": 35,
   "metadata": {
    "id": "3NvcKCkn6wFy"
   },
   "outputs": [
    {
     "name": "stdin",
     "output_type": "stream",
     "text": [
      " Enter a value 1\n",
      " Enter a value 4\n",
      " Enter a value 4\n"
     ]
    },
    {
     "name": "stdout",
     "output_type": "stream",
     "text": [
      "The discriminant is  0\n"
     ]
    }
   ],
   "source": [
    "# For a quadratic equation in the form of ax2+bx+c, the discriminant, D is b2-4ac. Write a function to compute the discriminant, D.\n",
    "# In - quadratic(1, 2, 3)\n",
    "# Out - 'The discriminant is -8.'\n",
    "# In - quadratic(1, 3, 2)\n",
    "# Out - 'The discriminant is 1.'\n",
    "# In - quadratic(1, 4, 4)\n",
    "# Out - 'The discriminant is 0.'\n",
    "\n",
    "#import math\n",
    "def quadratic(a, b, c):\n",
    "    D = pow(b,2) - 4 * a *c\n",
    "    return D\n",
    "\n",
    "a = eval(input(\" Enter a value\"))\n",
    "b = eval(input(\" Enter a value\"))\n",
    "c = eval(input(\" Enter a value\"))\n",
    "print(\"The discriminant is \",quadratic(a, b, c))\n"
   ]
  },
  {
   "cell_type": "code",
   "execution_count": 3,
   "metadata": {
    "colab": {
     "base_uri": "https://localhost:8080/",
     "height": 34
    },
    "id": "ihmuttBS6wJQ",
    "outputId": "0ef031e9-dec6-4ffe-b1ea-38d836dbcdcf"
   },
   "outputs": [
    {
     "data": {
      "text/plain": [
       "5"
      ]
     },
     "execution_count": 3,
     "metadata": {},
     "output_type": "execute_result"
    }
   ],
   "source": [
    "# Define a function calls addFirstAndLast(x) that takes in a list of numbers and returns the sum of the first and last numbers.\n",
    "# In - addFirstAndLast([])\n",
    "# Out - 0\n",
    "# In - addFirstAndLast([2, 7, 3])\n",
    "# Out - 5\n",
    "# In - addFirstAndLast([10])\n",
    "# Out - 10\n",
    "\n",
    "def addFirstAndLast(lst):\n",
    "    for i in lst:\n",
    "        if len(lst) <= 1:\n",
    "            return lst\n",
    "        else:\n",
    "            return lst[0] + lst[len(lst)-1]\n",
    "        \n",
    "            \n",
    "\n",
    "addFirstAndLast([2,7,3])\n",
    "#addFirstAndLast([])\n",
    "#addFirstAndLast([10])"
   ]
  },
  {
   "cell_type": "code",
   "execution_count": 5,
   "metadata": {
    "colab": {
     "base_uri": "https://localhost:8080/",
     "height": 34
    },
    "id": "lEt9HNPI6wM0",
    "outputId": "b07e15c3-a864-454c-aef5-1f1f0e07b39a"
   },
   "outputs": [
    {
     "data": {
      "text/plain": [
       "True"
      ]
     },
     "execution_count": 5,
     "metadata": {},
     "output_type": "execute_result"
    }
   ],
   "source": [
    "# Complete the 'lambda' expression so that it returns True if the argument is an even number, and False otherwise.\n",
    "\n",
    "(lambda num : num%2 ==0)(6)"
   ]
  },
  {
   "cell_type": "code",
   "execution_count": 15,
   "metadata": {
    "colab": {
     "base_uri": "https://localhost:8080/",
     "height": 35
    },
    "id": "JYWSZXPg6wQN",
    "outputId": "7b71e08d-573f-4d03-d5e3-e220df4c3b90"
   },
   "outputs": [],
   "source": [
    "\n",
    "# Get the documentation of below function\n",
    "\n",
    "def getScore():\n",
    "  ''''A function that computes and returns the final score.'''\n",
    "  pass\n",
    "\n",
    "getScore()"
   ]
  },
  {
   "cell_type": "code",
   "execution_count": 33,
   "metadata": {
    "colab": {
     "base_uri": "https://localhost:8080/",
     "height": 34
    },
    "id": "zmi81hi76wTK",
    "outputId": "232b4456-63ad-4582-d2cd-d888952dc957"
   },
   "outputs": [
    {
     "name": "stdout",
     "output_type": "stream",
     "text": [
      "25\n"
     ]
    }
   ],
   "source": [
    "# In Python, it is possible to pass a function as a argument to another function. \n",
    "# Write a function useFunction(func, num) that takes in a function and a number as arguments. \n",
    "# The useFunction should produce the output shown in the examples given below.\n",
    "\n",
    "# def addOne(x):\n",
    "#   return x + 1\n",
    "# useFunction(addOne, 4)\n",
    "# 25\n",
    "# useFunction(addOne, 9)\n",
    "# 100\n",
    "# useFunction(addOne, 0)\n",
    "# 1\n",
    "def useFunction(func, num):\n",
    "    result = func(num)\n",
    "    return result * result\n",
    "\n",
    "def addOne(x):\n",
    "  return x + 1\n",
    "\n",
    "output = useFunction(addOne, 4) \n",
    "print(output) # Output: 25\n",
    "\n",
    "\n",
    "\n"
   ]
  },
  {
   "cell_type": "code",
   "execution_count": 7,
   "metadata": {
    "id": "JJm1zFMX6wWK"
   },
   "outputs": [
    {
     "name": "stdin",
     "output_type": "stream",
     "text": [
      " Enter a value 8\n",
      " Enter a value 9\n",
      " Enter a value 7\n"
     ]
    },
    {
     "name": "stdout",
     "output_type": "stream",
     "text": [
      "largest is  9\n"
     ]
    }
   ],
   "source": [
    "# Write a function find_max that accepts three numbers as arguments and returns the largest number among three. \n",
    "# Write another function main, in main() function accept three numbers from user and call find_max.\n",
    "\n",
    "def find_max(a, b, c):\n",
    "     if a > b and  a > c:\n",
    "         return a \n",
    "     if b > a and b > c:\n",
    "         return b\n",
    "     else:\n",
    "         return c\n",
    "\n",
    "def in_main():\n",
    "    a = eval(input(\" Enter a value\"))\n",
    "    b = eval(input(\" Enter a value\"))\n",
    "    c = eval(input(\" Enter a value\"))\n",
    "    print(\"largest is \",find_max(a, b, c))\n",
    "\n",
    "in_main()"
   ]
  },
  {
   "cell_type": "code",
   "execution_count": 49,
   "metadata": {
    "colab": {
     "base_uri": "https://localhost:8080/",
     "height": 34
    },
    "id": "PBvBwg0O6waD",
    "outputId": "57768b69-c749-4d88-be06-7a9d41a98de2"
   },
   "outputs": [
    {
     "data": {
      "text/plain": [
       "4"
      ]
     },
     "execution_count": 49,
     "metadata": {},
     "output_type": "execute_result"
    }
   ],
   "source": [
    "# Write a function, is_vowel that returns the value true if a given character is a vowel, \n",
    "# and otherwise returns false. \n",
    "# Write another function main, in main() function accept a string from user and count number \n",
    "# of vowels in that string.\n",
    "\n",
    "def is_vowel(ch):\n",
    "   vowels = \"aeiouAEIOU\" \n",
    "   return ch in vowels\n",
    "    \n",
    "def is_main(str):\n",
    "    vowels =\"aeiouAEIOU\" \n",
    "    count = 0\n",
    "    for ch in str:\n",
    "        if ch in vowels:\n",
    "           count += 1\n",
    "    return count\n",
    "       \n",
    "    \n",
    "\n",
    "is_main(\"hypotenuse\")\n",
    "#is_vowel('A')"
   ]
  },
  {
   "cell_type": "code",
   "execution_count": 74,
   "metadata": {},
   "outputs": [
    {
     "data": {
      "text/plain": [
       "True"
      ]
     },
     "execution_count": 74,
     "metadata": {},
     "output_type": "execute_result"
    }
   ],
   "source": [
    "# Write a function named is_prime, which takes an integer as an argument and returns true \n",
    "# if the argument is a prime number, or false otherwise. \n",
    "# Also, write the main function that displays prime numbers between 1 to 500.\n",
    "def is_prime(n):\n",
    "   if n <= 1: \n",
    "       return False \n",
    "       for i in range(2, int(n**0.5) + 1): \n",
    "           if n % i == 0: \n",
    "               return False \n",
    "        return True\n",
    "is_prime(17)"
   ]
  },
  {
   "cell_type": "code",
   "execution_count": 19,
   "metadata": {},
   "outputs": [
    {
     "name": "stdout",
     "output_type": "stream",
     "text": [
      "Prime numbers between 1 and 500 are:\n",
      "2 3 5 7 11 13 17 19 23 29 31 37 41 43 47 53 59 61 67 71 73 79 83 89 97 101 103 107 109 113 127 131 137 139 149 151 157 163 167 173 179 181 191 193 197 199 211 223 227 229 233 239 241 251 257 263 269 271 277 281 283 293 307 311 313 317 331 337 347 349 353 359 367 373 379 383 389 397 401 409 419 421 431 433 439 443 449 457 461 463 467 479 487 491 499 \n"
     ]
    }
   ],
   "source": [
    "def is_prime(num):\n",
    "    if num <= 1:\n",
    "        return False\n",
    "    for i in range(2, int(num**0.5) + 1):\n",
    "        if num % i == 0:\n",
    "            return False\n",
    "    return True\n",
    "\n",
    "def main():\n",
    "    print(\"Prime numbers between 1 and 500 are:\") \n",
    "    for num in range(1, 501): \n",
    "         if is_prime(num): \n",
    "             print(num, end=' ') \n",
    "    print()\n",
    "\n",
    "if __name__ == \"__main__\":\n",
    "    main()"
   ]
  },
  {
   "cell_type": "code",
   "execution_count": 29,
   "metadata": {},
   "outputs": [
    {
     "name": "stdout",
     "output_type": "stream",
     "text": [
      "The sum of the cubes of [1, 2, 3, 4] is 100.\n"
     ]
    }
   ],
   "source": [
    "# Write a function in python to find the sum of the cube of elements in a list. \n",
    "# The list is received as an argument to the function, in turn, the function must return the sum. \n",
    "# Write the main function which invokes the above function.\n",
    "\n",
    "def sum_of_cubes(lst): \n",
    "    return sum(x**3 for x in lst) # Example usage \n",
    "\n",
    "numbers = [1, 2, 3, 4] \n",
    "result = sum_of_cubes(numbers) \n",
    "print(f\"The sum of the cubes of {numbers} is {result}.\")"
   ]
  },
  {
   "cell_type": "code",
   "execution_count": 37,
   "metadata": {},
   "outputs": [
    {
     "name": "stdout",
     "output_type": "stream",
     "text": [
      "The sum of the score [200, 456, 300, 100, 234, 678] is 600.\n"
     ]
    }
   ],
   "source": [
    "# Write the definition of a function zero_ending(scores) to add all those values in the list of scores, \n",
    "# which are ending with zero and display the sum.\n",
    "# For example: If the scores contain [200, 456, 300, 100, 234, 678] The sum should be displayed as 600\n",
    "\n",
    "def zero_ending(scores):\n",
    "    total_sum = sum(score for score in scores if score % 10 == 0)\n",
    "    return total_sum\n",
    "\n",
    "scores = [200, 456, 300, 100, 234, 678] \n",
    "result = zero_ending(scores) \n",
    "print(f\"The sum of the score {scores} is {result}.\")      "
   ]
  },
  {
   "cell_type": "code",
   "execution_count": 51,
   "metadata": {},
   "outputs": [
    {
     "name": "stdout",
     "output_type": "stream",
     "text": [
      "Place names with more than 5 characters:\n",
      "LONDON\n",
      "NEW YORK\n"
     ]
    }
   ],
   "source": [
    "# Write a definition of a method count_now(places) to find and display those place names, \n",
    "# in which there are more than 5 characters.\n",
    "\n",
    "# For example :\n",
    "# If the list places contains\n",
    "# [\"DELHI\",\"LONDON\",\"PARIS\",\"NEW YORK\",\"DUBAI\"]\n",
    "# The following should get displayed :\n",
    "# LONDON\n",
    "# NEW YORK\n",
    "\n",
    "def count_now(places):\n",
    "   #return (char for char in places if len(char) >= 5)\n",
    "   long_places = [place for place in places if len(place) > 5] \n",
    "   print(\"Place names with more than 5 characters:\") \n",
    "   for place in long_places: \n",
    "        print(place)\n",
    "\n",
    "places = [\"DELHI\",\"LONDON\",\"PARIS\",\"NEW YORK\",\"DUBAI\"]\n",
    "res = count_now(places)"
   ]
  },
  {
   "cell_type": "code",
   "execution_count": null,
   "metadata": {},
   "outputs": [],
   "source": []
  },
  {
   "cell_type": "code",
   "execution_count": 61,
   "metadata": {},
   "outputs": [
    {
     "name": "stdout",
     "output_type": "stream",
     "text": [
      "414141\n",
      "DROND#\n",
      "GIRIRAJ#\n",
      "131313\n",
      "ZARA#\n"
     ]
    }
   ],
   "source": [
    "# Write a method in python to display the elements of list thrice if it is a number and display \n",
    "# the element terminated with ‘#’ if it is not a number.\n",
    "\n",
    "# For example, if the content of list is as follows :\n",
    "# ThisList=[‘41’,‘DROND’,‘GIRIRAJ’, ‘13’,‘ZARA’]\n",
    "# The output should be\n",
    "# 414141\n",
    "# DROND#\n",
    "# GIRIRAJ#\n",
    "# 131313\n",
    "# ZARA#\n",
    "def display_list(this_list): \n",
    "     for element in this_list: \n",
    "         if element.isdigit():\n",
    "             print(element * 3) \n",
    "         else: print(element + '#') \n",
    "\n",
    "\n",
    "ThisList = ['41', 'DROND', 'GIRIRAJ', '13', 'ZARA'] \n",
    "display_list(ThisList)"
   ]
  },
  {
   "cell_type": "code",
   "execution_count": 9,
   "metadata": {},
   "outputs": [
    {
     "name": "stdout",
     "output_type": "stream",
     "text": [
      "I am mid value 4\n",
      "I am mid value 1\n",
      "I am mid value 2\n",
      "I am mid value 3\n",
      "Value 70 found at position 3.\n"
     ]
    }
   ],
   "source": [
    "# For a given list of values in descending order, write a method in python to search \n",
    "# for a value with the help of Binary Search method. \n",
    "# The method should return position of the value and should return -1 if the value not present in the list.\n",
    "\n",
    "def binary_search_descending(arr, value):\n",
    "    low = 0 \n",
    "    high = len(arr) - 1\n",
    "    while low <= high: \n",
    "        mid = (low + high) // 2 \n",
    "        print(\"I am mid value\",mid)\n",
    "        if arr[mid] == value: \n",
    "            return mid \n",
    "        elif arr[mid] < value: \n",
    "            high = mid - 1 \n",
    "        else: \n",
    "            low = mid + 1 \n",
    "    return -1\n",
    "\n",
    "\n",
    "my_list = [100, 90, 80, 70, 60, 50, 40, 30, 20, 10] \n",
    "value_to_search = 70\n",
    "result = binary_search_descending(my_list, value_to_search)\n",
    "if result != -1: \n",
    "    print(f\"Value {value_to_search} found at position {result}.\") \n",
    "else: \n",
    "    print(f\"Value {value_to_search} not present in the list.\")"
   ]
  },
  {
   "cell_type": "code",
   "execution_count": 83,
   "metadata": {},
   "outputs": [
    {
     "name": "stdout",
     "output_type": "stream",
     "text": [
      "Modified list (even): [40, 50, 60, 10, 20, 30]\n",
      "Modified list (odd): [50, 60, 70, 40, 10, 20, 30]\n"
     ]
    }
   ],
   "source": [
    "# Write a function half_and_half that takes in a list and change the list \n",
    "# such that the elements of the second half are now in the first half.\n",
    "\n",
    "# For example, if the size of list is even and content of list is as follows :\n",
    "# my_liist = [10,20,30,40,50,60]\n",
    "# The output should be\n",
    "# [40,50,60,10,20,30]\n",
    "# if the size of list is odd and content of list is as follows :\n",
    "# my_liist = [10,20,30,40,50,60,70]\n",
    "# The output should be\n",
    "# [50,60,70,40,10,20,30]\n",
    "def half_and_half(my_list):\n",
    "  length = len(my_list) \n",
    "  mid = length // 2 \n",
    "  if length % 2 == 0: \n",
    "      my_list[:] = my_list[mid:] + my_list[:mid] \n",
    "  else: my_list[:] = my_list[mid+1:] + [my_list[mid]] + my_list[:mid]\n",
    "\n",
    "\n",
    "my_list_even = [10, 20, 30, 40, 50, 60] \n",
    "half_and_half(my_list_even) \n",
    "print(\"Modified list (even):\", my_list_even) \n",
    "my_list_odd = [10, 20, 30, 40, 50, 60, 70] \n",
    "half_and_half(my_list_odd) \n",
    "print(\"Modified list (odd):\", my_list_odd)"
   ]
  },
  {
   "cell_type": "code",
   "execution_count": 112,
   "metadata": {
    "ExecuteTime": {
     "end_time": "2021-05-29T10:39:43.694779Z",
     "start_time": "2021-05-29T10:39:43.691446Z"
    }
   },
   "outputs": [
    {
     "name": "stdout",
     "output_type": "stream",
     "text": [
      "{1: 'a', 2: 'b', 3: 'c'}\n",
      "{}\n"
     ]
    }
   ],
   "source": [
    "# Write a function that accepts a dictionary as an argument. If the dictionary contains replicate values, \n",
    "# return an empty dictionary, otherwise, return a new dictionary whose values are now the keys and whose \n",
    "# keys are the values.\n",
    "def invert_dictionary(original_dict):\n",
    "    seen_values = set() \n",
    "    for value in original_dict.values():  \n",
    "        if value in seen_values: \n",
    "            return {} \n",
    "        seen_values.add(value)\n",
    "    inverted_dict = {value: key for key, value in original_dict.items()} \n",
    "    return inverted_dict # Example usage \n",
    "\n",
    "example_dict1 = {'a': 1, 'b': 2, 'c': 3} \n",
    "example_dict2 = {'a': 1, 'b': 2, 'c': 2} \n",
    "print(invert_dictionary(example_dict1)) # Output: {1: 'a', 2: 'b', 3: 'c'} \n",
    "print(invert_dictionary(example_dict2))"
   ]
  },
  {
   "cell_type": "code",
   "execution_count": null,
   "metadata": {},
   "outputs": [],
   "source": []
  },
  {
   "cell_type": "code",
   "execution_count": null,
   "metadata": {},
   "outputs": [],
   "source": []
  },
  {
   "cell_type": "code",
   "execution_count": null,
   "metadata": {},
   "outputs": [],
   "source": []
  }
 ],
 "metadata": {
  "colab": {
   "name": "Function_Assignment.ipynb",
   "provenance": []
  },
  "kernelspec": {
   "display_name": "Python 3 (ipykernel)",
   "language": "python",
   "name": "python3"
  },
  "language_info": {
   "codemirror_mode": {
    "name": "ipython",
    "version": 3
   },
   "file_extension": ".py",
   "mimetype": "text/x-python",
   "name": "python",
   "nbconvert_exporter": "python",
   "pygments_lexer": "ipython3",
   "version": "3.12.4"
  }
 },
 "nbformat": 4,
 "nbformat_minor": 4
}
